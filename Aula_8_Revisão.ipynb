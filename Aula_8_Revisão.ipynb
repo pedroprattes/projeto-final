{
 "cells": [
  {
   "cell_type": "markdown",
   "metadata": {
    "id": "4vwYaEbEZ4nY"
   },
   "source": [
    "# Aula 8 - Revisão"
   ]
  },
  {
   "cell_type": "markdown",
   "metadata": {
    "id": "VrGqrCrkaCuu"
   },
   "source": [
    "Prof. Tiago Dias\n",
    "\n",
    "[Linkedin](https://www.linkedin.com/in/diasctiago/) | [Github](https://github.com/diasctiago) | [Blog](https://www.dadosaocubo.com/)"
   ]
  },
  {
   "cell_type": "markdown",
   "metadata": {
    "id": "94he9PoubPgw"
   },
   "source": [
    "## Documentações"
   ]
  },
  {
   "cell_type": "markdown",
   "metadata": {
    "id": "bDc-ZpjtNdbi"
   },
   "source": [
    "[Documentação git](https://git-scm.com/docs/git/pt_BR)\n",
    "\n",
    "[Documentação numpy](https://numpy.org/doc/1.23/user/index.html#user)\n",
    "\n",
    "[Documentação pandas](https://pandas.pydata.org/docs/user_guide/index.html)"
   ]
  },
  {
   "cell_type": "markdown",
   "metadata": {
    "id": "rNWR-NjhEXh9"
   },
   "source": [
    "### Revisão Git"
   ]
  },
  {
   "cell_type": "markdown",
   "metadata": {
    "id": "u6U8OrWIEZb7"
   },
   "source": [
    "O que é GIT?\n",
    "* É um sistema de controle de versões distribuído\n",
    "* Usado principalmente no desenvolvimento de software\n",
    "* Pode ser usado para registrar o histórico de edições de qualquer tipo de arquivo\n",
    "* Foi inicialmente projetado e desenvolvido por Linus Torvalds para o desenvolvimento do kernel Linux\n",
    "* Posteriormente foi adotado por muitos outros projetos\n",
    "* Atualmente é amplamente utilizado para versionamento de sistemas e arquivos\n"
   ]
  },
  {
   "cell_type": "markdown",
   "metadata": {
    "id": "K58pB8XULL2f"
   },
   "source": [
    "### Revisão NumPy"
   ]
  },
  {
   "cell_type": "code",
   "execution_count": 213,
   "metadata": {
    "colab": {
     "base_uri": "https://localhost:8080/"
    },
    "id": "gUZM0cnSLQal",
    "outputId": "a95431ba-44e4-4716-98d9-5ad99948f84e"
   },
   "outputs": [
    {
     "name": "stdout",
     "output_type": "stream",
     "text": [
      "Requirement already satisfied: numpy in c:\\users\\w.souza\\videos\\data analytics\\venv\\lib\\site-packages (1.19.5)\n",
      "Could not fetch URL https://pypi.org/simple/pip/: There was a problem confirming the ssl certificate: HTTPSConnectionPool(host='pypi.org', port=443): Max retries exceeded with url: /simple/pip/ (Caused by SSLError(SSLCertVerificationError(1, '[SSL: CERTIFICATE_VERIFY_FAILED] certificate verify failed: self signed certificate in certificate chain (_ssl.c:1056)'))) - skipping\n"
     ]
    },
    {
     "name": "stderr",
     "output_type": "stream",
     "text": [
      "WARNING: There was an error checking the latest version of pip.\n"
     ]
    }
   ],
   "source": [
    "# Instalando a biblioteca\n",
    "!pip install numpy"
   ]
  },
  {
   "cell_type": "code",
   "execution_count": 214,
   "metadata": {
    "id": "B0A-dJNXF-nU"
   },
   "outputs": [],
   "source": [
    "# importando a biblioteca\n",
    "import numpy as np"
   ]
  },
  {
   "cell_type": "markdown",
   "metadata": {
    "id": "tUZ4d4vpGMKJ"
   },
   "source": [
    "#### criando array em todas as dimensões"
   ]
  },
  {
   "cell_type": "code",
   "execution_count": 215,
   "metadata": {
    "colab": {
     "base_uri": "https://localhost:8080/"
    },
    "id": "Wb51upkWF-ja",
    "outputId": "e1d78051-0503-4b9a-f8af-eb6e830efce5"
   },
   "outputs": [
    {
     "data": {
      "text/plain": [
       "array(10)"
      ]
     },
     "execution_count": 215,
     "metadata": {},
     "output_type": "execute_result"
    }
   ],
   "source": [
    "# escalar\n",
    "d0 = np.array(10)\n",
    "d0"
   ]
  },
  {
   "cell_type": "code",
   "execution_count": 216,
   "metadata": {
    "colab": {
     "base_uri": "https://localhost:8080/"
    },
    "id": "wttvpcN-F-gk",
    "outputId": "6a24396a-4c75-4b9a-ce5b-0ac8c0e1972a"
   },
   "outputs": [
    {
     "data": {
      "text/plain": [
       "array([1, 2, 4, 5, 6])"
      ]
     },
     "execution_count": 216,
     "metadata": {},
     "output_type": "execute_result"
    }
   ],
   "source": [
    "# vetor\n",
    "d1 = np.array([1,2,4,5,6])\n",
    "d1"
   ]
  },
  {
   "cell_type": "code",
   "execution_count": 217,
   "metadata": {
    "colab": {
     "base_uri": "https://localhost:8080/"
    },
    "id": "bTcgPfCBF-c2",
    "outputId": "e94fff3a-e729-47c6-9a6b-e211bb3310f3"
   },
   "outputs": [
    {
     "data": {
      "text/plain": [
       "array([[1, 2, 3],\n",
       "       [4, 5, 6]])"
      ]
     },
     "execution_count": 217,
     "metadata": {},
     "output_type": "execute_result"
    }
   ],
   "source": [
    "# matriz\n",
    "d2 = np.array([[1,2,3],[4,5,6]])\n",
    "d2"
   ]
  },
  {
   "cell_type": "code",
   "execution_count": 218,
   "metadata": {
    "colab": {
     "base_uri": "https://localhost:8080/"
    },
    "id": "vVcy9k8FF-Z5",
    "outputId": "e683ecc3-f0eb-4557-c8a1-e75510dda417"
   },
   "outputs": [
    {
     "data": {
      "text/plain": [
       "array([[[1, 2, 3],\n",
       "        [4, 5, 6]],\n",
       "\n",
       "       [[1, 2, 3],\n",
       "        [4, 5, 6]]])"
      ]
     },
     "execution_count": 218,
     "metadata": {},
     "output_type": "execute_result"
    }
   ],
   "source": [
    "# tensor\n",
    "d3 = np.array([[[1,2,3],\n",
    "                [4,5,6]],\n",
    "               \n",
    "               [[1,2,3],\n",
    "                [4,5,6]]])\n",
    "d3"
   ]
  },
  {
   "cell_type": "code",
   "execution_count": 219,
   "metadata": {
    "id": "3WBPz6TcF-W6"
   },
   "outputs": [],
   "source": [
    "# função para checar dimensões dos elementos\n",
    "#tipo = type()\n",
    "#dimensão = ndim\n",
    "#tamanho = size\n",
    "#shape = shape"
   ]
  },
  {
   "cell_type": "code",
   "execution_count": 220,
   "metadata": {
    "id": "zc72VOJ2NbCc"
   },
   "outputs": [],
   "source": [
    "def verify (arr):\n",
    "  print(f'Tipo {type(arr)} \\nDimensão {arr.ndim} \\nTamanho {arr.size} \\nShape {arr.shape}')"
   ]
  },
  {
   "cell_type": "code",
   "execution_count": 221,
   "metadata": {
    "colab": {
     "base_uri": "https://localhost:8080/"
    },
    "id": "xJYe2xnTNyf-",
    "outputId": "bb17f6d7-61d9-4bba-ea66-1eee29b712c6"
   },
   "outputs": [
    {
     "name": "stdout",
     "output_type": "stream",
     "text": [
      "Tipo <class 'numpy.ndarray'> \n",
      "Dimensão 0 \n",
      "Tamanho 1 \n",
      "Shape ()\n"
     ]
    }
   ],
   "source": [
    "verify(d0)"
   ]
  },
  {
   "cell_type": "code",
   "execution_count": 222,
   "metadata": {
    "colab": {
     "base_uri": "https://localhost:8080/"
    },
    "id": "mmWVqVbCN2nF",
    "outputId": "1a1a3698-8b40-4009-8ba3-a01327d59e14"
   },
   "outputs": [
    {
     "name": "stdout",
     "output_type": "stream",
     "text": [
      "Tipo <class 'numpy.ndarray'> \n",
      "Dimensão 1 \n",
      "Tamanho 5 \n",
      "Shape (5,)\n"
     ]
    }
   ],
   "source": [
    "verify(d1)"
   ]
  },
  {
   "cell_type": "code",
   "execution_count": 223,
   "metadata": {
    "colab": {
     "base_uri": "https://localhost:8080/"
    },
    "id": "RDjuyQWzN9b-",
    "outputId": "3bb2d10f-9825-4c06-86e3-fefc8406cf37"
   },
   "outputs": [
    {
     "name": "stdout",
     "output_type": "stream",
     "text": [
      "Tipo <class 'numpy.ndarray'> \n",
      "Dimensão 2 \n",
      "Tamanho 6 \n",
      "Shape (2, 3)\n"
     ]
    }
   ],
   "source": [
    "verify(d2)"
   ]
  },
  {
   "cell_type": "code",
   "execution_count": 224,
   "metadata": {
    "colab": {
     "base_uri": "https://localhost:8080/"
    },
    "id": "45DANJZjODKH",
    "outputId": "f7aef59c-1b2e-41d4-ff2d-eca89e4dfe5f"
   },
   "outputs": [
    {
     "name": "stdout",
     "output_type": "stream",
     "text": [
      "Tipo <class 'numpy.ndarray'> \n",
      "Dimensão 3 \n",
      "Tamanho 12 \n",
      "Shape (2, 2, 3)\n"
     ]
    }
   ],
   "source": [
    "verify(d3)"
   ]
  },
  {
   "cell_type": "markdown",
   "metadata": {
    "id": "kBHV-o4HGvRp"
   },
   "source": [
    "#### funções com NumPy"
   ]
  },
  {
   "cell_type": "code",
   "execution_count": 225,
   "metadata": {
    "colab": {
     "base_uri": "https://localhost:8080/"
    },
    "id": "fMTGcfaHGbVs",
    "outputId": "43457674-52ea-45a0-a989-4d650788c4c5"
   },
   "outputs": [
    {
     "data": {
      "text/plain": [
       "array([0, 0, 0, 0, 0, 0, 0, 0, 0, 0, 0, 0, 0, 0, 0, 0, 0, 0])"
      ]
     },
     "execution_count": 225,
     "metadata": {},
     "output_type": "execute_result"
    }
   ],
   "source": [
    "# criando um array de zeros\n",
    "np.zeros(18, dtype=int)"
   ]
  },
  {
   "cell_type": "code",
   "execution_count": 226,
   "metadata": {
    "colab": {
     "base_uri": "https://localhost:8080/"
    },
    "id": "GRPBi8D5Omj3",
    "outputId": "aa04b306-67f4-4c5f-9b5b-9c790b43e059"
   },
   "outputs": [
    {
     "data": {
      "text/plain": [
       "array([[0, 0, 0],\n",
       "       [0, 0, 0],\n",
       "       [0, 0, 0]])"
      ]
     },
     "execution_count": 226,
     "metadata": {},
     "output_type": "execute_result"
    }
   ],
   "source": [
    "np.zeros((3,3), dtype=int)"
   ]
  },
  {
   "cell_type": "code",
   "execution_count": 227,
   "metadata": {
    "colab": {
     "base_uri": "https://localhost:8080/"
    },
    "id": "oYf44blmGbR-",
    "outputId": "4bd6ac7a-0549-425c-fbe9-af1df28d7a0e"
   },
   "outputs": [
    {
     "data": {
      "text/plain": [
       "array([1, 1, 1, 1, 1, 1, 1, 1, 1, 1, 1, 1, 1, 1, 1, 1, 1, 1, 1])"
      ]
     },
     "execution_count": 227,
     "metadata": {},
     "output_type": "execute_result"
    }
   ],
   "source": [
    "# criando um array de uns\n",
    "np.ones(19, dtype=int)"
   ]
  },
  {
   "cell_type": "code",
   "execution_count": 228,
   "metadata": {
    "colab": {
     "base_uri": "https://localhost:8080/"
    },
    "id": "cJdUOr3mOq9s",
    "outputId": "09416a14-e07e-42b2-f47a-7e07268f2422"
   },
   "outputs": [
    {
     "data": {
      "text/plain": [
       "array([[[1, 1],\n",
       "        [1, 1]],\n",
       "\n",
       "       [[1, 1],\n",
       "        [1, 1]]])"
      ]
     },
     "execution_count": 228,
     "metadata": {},
     "output_type": "execute_result"
    }
   ],
   "source": [
    "np.ones((2,2,2), dtype=int)"
   ]
  },
  {
   "cell_type": "code",
   "execution_count": 229,
   "metadata": {
    "colab": {
     "base_uri": "https://localhost:8080/"
    },
    "id": "jFD3DE7aGbOo",
    "outputId": "d43503bb-7345-4d7a-82d1-62b2d3626d23"
   },
   "outputs": [
    {
     "data": {
      "text/plain": [
       "array([15, 15, 15, 15, 15])"
      ]
     },
     "execution_count": 229,
     "metadata": {},
     "output_type": "execute_result"
    }
   ],
   "source": [
    "# criando um array de números específicos\n",
    "np.full(5,15)"
   ]
  },
  {
   "cell_type": "code",
   "execution_count": 230,
   "metadata": {
    "colab": {
     "base_uri": "https://localhost:8080/"
    },
    "id": "0bFWoCnvGbLU",
    "outputId": "a7f338cc-2c26-4909-fe0a-09e0beca4098"
   },
   "outputs": [
    {
     "data": {
      "text/plain": [
       "array([1, 3, 5, 7, 9])"
      ]
     },
     "execution_count": 230,
     "metadata": {},
     "output_type": "execute_result"
    }
   ],
   "source": [
    "# range com start, stop (exclusivo) e step\n",
    "np.arange(1,11,2)"
   ]
  },
  {
   "cell_type": "code",
   "execution_count": 231,
   "metadata": {
    "colab": {
     "base_uri": "https://localhost:8080/"
    },
    "id": "RdF9BWWoHDbY",
    "outputId": "d799ac69-a9cb-48e7-faac-2e32a8b9477d"
   },
   "outputs": [
    {
     "data": {
      "text/plain": [
       "(25, 1, 9)"
      ]
     },
     "execution_count": 231,
     "metadata": {},
     "output_type": "execute_result"
    }
   ],
   "source": [
    "# soma, maximo e minimo de um array\n",
    "arr = np.arange(1,11,2)\n",
    "sum(arr), min(arr), max(arr)"
   ]
  },
  {
   "cell_type": "code",
   "execution_count": 232,
   "metadata": {
    "colab": {
     "base_uri": "https://localhost:8080/"
    },
    "id": "erjXhQE3HNNH",
    "outputId": "b5520ed9-9a81-4970-bfe7-995085324d4a"
   },
   "outputs": [
    {
     "data": {
      "text/plain": [
       "array([[ 3,  5, 44],\n",
       "       [32,  1,  2],\n",
       "       [20, 21, 15]])"
      ]
     },
     "execution_count": 232,
     "metadata": {},
     "output_type": "execute_result"
    }
   ],
   "source": [
    "#np.where(condição, verdade, falsa)\n",
    "matriz = np.array([[3,5,44],\n",
    "                   [32,1,2],\n",
    "                   [20,21,15]])\n",
    "matriz"
   ]
  },
  {
   "cell_type": "code",
   "execution_count": 233,
   "metadata": {
    "colab": {
     "base_uri": "https://localhost:8080/"
    },
    "id": "vS0wUM-6P3mw",
    "outputId": "bb44f943-3163-4284-9444-d9844b37cdec"
   },
   "outputs": [
    {
     "data": {
      "text/plain": [
       "array([[3, 5, 0],\n",
       "       [0, 1, 2],\n",
       "       [0, 0, 0]])"
      ]
     },
     "execution_count": 233,
     "metadata": {},
     "output_type": "execute_result"
    }
   ],
   "source": [
    "np.where(matriz>10, 0, matriz)"
   ]
  },
  {
   "cell_type": "code",
   "execution_count": 234,
   "metadata": {
    "colab": {
     "base_uri": "https://localhost:8080/"
    },
    "id": "suLL4Nn3QDGF",
    "outputId": "c24926eb-b6b5-44c2-c654-a04352112622"
   },
   "outputs": [
    {
     "data": {
      "text/plain": [
       "array([[ 0,  0, 44],\n",
       "       [32,  0,  0],\n",
       "       [20, 21, 15]])"
      ]
     },
     "execution_count": 234,
     "metadata": {},
     "output_type": "execute_result"
    }
   ],
   "source": [
    "np.where(matriz>10, matriz, 0)"
   ]
  },
  {
   "cell_type": "markdown",
   "metadata": {
    "id": "haYz6TsaLS0M"
   },
   "source": [
    "### Revisão Pandas"
   ]
  },
  {
   "cell_type": "code",
   "execution_count": 235,
   "metadata": {
    "colab": {
     "base_uri": "https://localhost:8080/"
    },
    "id": "shC32thmLR4e",
    "outputId": "b7d0e167-6267-455d-8e7d-f0e010a970dd"
   },
   "outputs": [
    {
     "name": "stdout",
     "output_type": "stream",
     "text": [
      "Requirement already satisfied: pandas in c:\\users\\w.souza\\videos\\data analytics\\venv\\lib\\site-packages (1.3.5)\n",
      "Requirement already satisfied: numpy>=1.17.3 in c:\\users\\w.souza\\videos\\data analytics\\venv\\lib\\site-packages (from pandas) (1.19.5)\n",
      "Requirement already satisfied: python-dateutil>=2.7.3 in c:\\users\\w.souza\\videos\\data analytics\\venv\\lib\\site-packages (from pandas) (2.8.2)\n",
      "Requirement already satisfied: pytz>=2017.3 in c:\\users\\w.souza\\videos\\data analytics\\venv\\lib\\site-packages (from pandas) (2022.1)\n",
      "Requirement already satisfied: six>=1.5 in c:\\users\\w.souza\\videos\\data analytics\\venv\\lib\\site-packages (from python-dateutil>=2.7.3->pandas) (1.16.0)\n",
      "Could not fetch URL https://pypi.org/simple/pip/: There was a problem confirming the ssl certificate: HTTPSConnectionPool(host='pypi.org', port=443): Max retries exceeded with url: /simple/pip/ (Caused by SSLError(SSLCertVerificationError(1, '[SSL: CERTIFICATE_VERIFY_FAILED] certificate verify failed: self signed certificate in certificate chain (_ssl.c:1056)'))) - skipping\n"
     ]
    },
    {
     "name": "stderr",
     "output_type": "stream",
     "text": [
      "WARNING: There was an error checking the latest version of pip.\n"
     ]
    }
   ],
   "source": [
    "# Instalando a biblioteca\n",
    "!pip install pandas"
   ]
  },
  {
   "cell_type": "code",
   "execution_count": 236,
   "metadata": {
    "id": "KqmaVR4YI2bD"
   },
   "outputs": [],
   "source": [
    "# importando a biblioteca\n",
    "import pandas as pd"
   ]
  },
  {
   "cell_type": "code",
   "execution_count": 237,
   "metadata": {
    "colab": {
     "base_uri": "https://localhost:8080/"
    },
    "id": "hTA6WnvUBdRr",
    "outputId": "0d376fd1-e025-444c-fa38-0877c0277038"
   },
   "outputs": [
    {
     "data": {
      "text/plain": [
       "0    1\n",
       "1    2\n",
       "2    4\n",
       "dtype: int64"
      ]
     },
     "execution_count": 237,
     "metadata": {},
     "output_type": "execute_result"
    }
   ],
   "source": [
    "# criando uma série\n",
    "s1 = pd.Series([1,2,4])\n",
    "s1"
   ]
  },
  {
   "cell_type": "code",
   "execution_count": 238,
   "metadata": {
    "colab": {
     "base_uri": "https://localhost:8080/",
     "height": 143
    },
    "id": "65xXc_H9BdOL",
    "outputId": "6647e503-6fa5-4ebb-d04f-7d1ae2d032b9"
   },
   "outputs": [
    {
     "data": {
      "text/html": [
       "<div>\n",
       "<style scoped>\n",
       "    .dataframe tbody tr th:only-of-type {\n",
       "        vertical-align: middle;\n",
       "    }\n",
       "\n",
       "    .dataframe tbody tr th {\n",
       "        vertical-align: top;\n",
       "    }\n",
       "\n",
       "    .dataframe thead th {\n",
       "        text-align: right;\n",
       "    }\n",
       "</style>\n",
       "<table border=\"1\" class=\"dataframe\">\n",
       "  <thead>\n",
       "    <tr style=\"text-align: right;\">\n",
       "      <th></th>\n",
       "      <th>numero</th>\n",
       "      <th>letra</th>\n",
       "    </tr>\n",
       "  </thead>\n",
       "  <tbody>\n",
       "    <tr>\n",
       "      <th>0</th>\n",
       "      <td>1</td>\n",
       "      <td>a</td>\n",
       "    </tr>\n",
       "    <tr>\n",
       "      <th>1</th>\n",
       "      <td>2</td>\n",
       "      <td>b</td>\n",
       "    </tr>\n",
       "    <tr>\n",
       "      <th>2</th>\n",
       "      <td>3</td>\n",
       "      <td>c</td>\n",
       "    </tr>\n",
       "  </tbody>\n",
       "</table>\n",
       "</div>"
      ],
      "text/plain": [
       "   numero letra\n",
       "0       1     a\n",
       "1       2     b\n",
       "2       3     c"
      ]
     },
     "execution_count": 238,
     "metadata": {},
     "output_type": "execute_result"
    }
   ],
   "source": [
    "# criando um dataframe\n",
    "df = pd.DataFrame([[1, 'a'],\n",
    "                   [2, 'b'],\n",
    "                   [3, 'c']],\n",
    "                  columns=['numero', 'letra'])\n",
    "df"
   ]
  },
  {
   "cell_type": "code",
   "execution_count": 239,
   "metadata": {
    "colab": {
     "base_uri": "https://localhost:8080/",
     "height": 143
    },
    "id": "bPT7ltuIRHs3",
    "outputId": "f645d57b-9f50-480b-b508-c78ce98639db"
   },
   "outputs": [
    {
     "data": {
      "text/html": [
       "<div>\n",
       "<style scoped>\n",
       "    .dataframe tbody tr th:only-of-type {\n",
       "        vertical-align: middle;\n",
       "    }\n",
       "\n",
       "    .dataframe tbody tr th {\n",
       "        vertical-align: top;\n",
       "    }\n",
       "\n",
       "    .dataframe thead th {\n",
       "        text-align: right;\n",
       "    }\n",
       "</style>\n",
       "<table border=\"1\" class=\"dataframe\">\n",
       "  <thead>\n",
       "    <tr style=\"text-align: right;\">\n",
       "      <th></th>\n",
       "      <th>numero</th>\n",
       "      <th>letra2</th>\n",
       "    </tr>\n",
       "  </thead>\n",
       "  <tbody>\n",
       "    <tr>\n",
       "      <th>0</th>\n",
       "      <td>1</td>\n",
       "      <td>AA</td>\n",
       "    </tr>\n",
       "    <tr>\n",
       "      <th>1</th>\n",
       "      <td>2</td>\n",
       "      <td>BB</td>\n",
       "    </tr>\n",
       "    <tr>\n",
       "      <th>2</th>\n",
       "      <td>3</td>\n",
       "      <td>CC</td>\n",
       "    </tr>\n",
       "  </tbody>\n",
       "</table>\n",
       "</div>"
      ],
      "text/plain": [
       "   numero letra2\n",
       "0       1     AA\n",
       "1       2     BB\n",
       "2       3     CC"
      ]
     },
     "execution_count": 239,
     "metadata": {},
     "output_type": "execute_result"
    }
   ],
   "source": [
    "df2 = pd.DataFrame([[1, 'AA'],\n",
    "                   [2, 'BB'],\n",
    "                   [3, 'CC']],\n",
    "                  columns=['numero', 'letra2'])\n",
    "df2"
   ]
  },
  {
   "cell_type": "code",
   "execution_count": 240,
   "metadata": {
    "colab": {
     "base_uri": "https://localhost:8080/",
     "height": 143
    },
    "id": "TXEL4LNkBdKq",
    "outputId": "e3c93fe8-be0f-4871-dee4-e163f4c004ff"
   },
   "outputs": [
    {
     "data": {
      "text/html": [
       "<div>\n",
       "<style scoped>\n",
       "    .dataframe tbody tr th:only-of-type {\n",
       "        vertical-align: middle;\n",
       "    }\n",
       "\n",
       "    .dataframe tbody tr th {\n",
       "        vertical-align: top;\n",
       "    }\n",
       "\n",
       "    .dataframe thead th {\n",
       "        text-align: right;\n",
       "    }\n",
       "</style>\n",
       "<table border=\"1\" class=\"dataframe\">\n",
       "  <thead>\n",
       "    <tr style=\"text-align: right;\">\n",
       "      <th></th>\n",
       "      <th>numero_l</th>\n",
       "      <th>letra</th>\n",
       "      <th>numero_r</th>\n",
       "      <th>letra2</th>\n",
       "    </tr>\n",
       "  </thead>\n",
       "  <tbody>\n",
       "    <tr>\n",
       "      <th>0</th>\n",
       "      <td>1</td>\n",
       "      <td>a</td>\n",
       "      <td>1</td>\n",
       "      <td>AA</td>\n",
       "    </tr>\n",
       "    <tr>\n",
       "      <th>1</th>\n",
       "      <td>2</td>\n",
       "      <td>b</td>\n",
       "      <td>2</td>\n",
       "      <td>BB</td>\n",
       "    </tr>\n",
       "    <tr>\n",
       "      <th>2</th>\n",
       "      <td>3</td>\n",
       "      <td>c</td>\n",
       "      <td>3</td>\n",
       "      <td>CC</td>\n",
       "    </tr>\n",
       "  </tbody>\n",
       "</table>\n",
       "</div>"
      ],
      "text/plain": [
       "   numero_l letra  numero_r letra2\n",
       "0         1     a         1     AA\n",
       "1         2     b         2     BB\n",
       "2         3     c         3     CC"
      ]
     },
     "execution_count": 240,
     "metadata": {},
     "output_type": "execute_result"
    }
   ],
   "source": [
    "# unindo dois dataframes\n",
    "df.join(df2, lsuffix='_l', rsuffix='_r')"
   ]
  },
  {
   "cell_type": "code",
   "execution_count": 241,
   "metadata": {
    "colab": {
     "base_uri": "https://localhost:8080/",
     "height": 143
    },
    "id": "zf3Wac-cRqsr",
    "outputId": "6fc6df47-fb74-4d84-a26d-0fa05705ea07"
   },
   "outputs": [
    {
     "data": {
      "text/html": [
       "<div>\n",
       "<style scoped>\n",
       "    .dataframe tbody tr th:only-of-type {\n",
       "        vertical-align: middle;\n",
       "    }\n",
       "\n",
       "    .dataframe tbody tr th {\n",
       "        vertical-align: top;\n",
       "    }\n",
       "\n",
       "    .dataframe thead th {\n",
       "        text-align: right;\n",
       "    }\n",
       "</style>\n",
       "<table border=\"1\" class=\"dataframe\">\n",
       "  <thead>\n",
       "    <tr style=\"text-align: right;\">\n",
       "      <th></th>\n",
       "      <th>letra2</th>\n",
       "    </tr>\n",
       "  </thead>\n",
       "  <tbody>\n",
       "    <tr>\n",
       "      <th>0</th>\n",
       "      <td>AA</td>\n",
       "    </tr>\n",
       "    <tr>\n",
       "      <th>1</th>\n",
       "      <td>BB</td>\n",
       "    </tr>\n",
       "    <tr>\n",
       "      <th>2</th>\n",
       "      <td>CC</td>\n",
       "    </tr>\n",
       "  </tbody>\n",
       "</table>\n",
       "</div>"
      ],
      "text/plain": [
       "  letra2\n",
       "0     AA\n",
       "1     BB\n",
       "2     CC"
      ]
     },
     "execution_count": 241,
     "metadata": {},
     "output_type": "execute_result"
    }
   ],
   "source": [
    "df2.drop(columns=['numero'])"
   ]
  },
  {
   "cell_type": "code",
   "execution_count": 242,
   "metadata": {
    "colab": {
     "base_uri": "https://localhost:8080/",
     "height": 143
    },
    "id": "fw5zihzHRh94",
    "outputId": "10e15877-37f7-4101-af4e-cf82fdaefa0c"
   },
   "outputs": [
    {
     "data": {
      "text/html": [
       "<div>\n",
       "<style scoped>\n",
       "    .dataframe tbody tr th:only-of-type {\n",
       "        vertical-align: middle;\n",
       "    }\n",
       "\n",
       "    .dataframe tbody tr th {\n",
       "        vertical-align: top;\n",
       "    }\n",
       "\n",
       "    .dataframe thead th {\n",
       "        text-align: right;\n",
       "    }\n",
       "</style>\n",
       "<table border=\"1\" class=\"dataframe\">\n",
       "  <thead>\n",
       "    <tr style=\"text-align: right;\">\n",
       "      <th></th>\n",
       "      <th>numero</th>\n",
       "      <th>letra</th>\n",
       "      <th>letra2</th>\n",
       "    </tr>\n",
       "  </thead>\n",
       "  <tbody>\n",
       "    <tr>\n",
       "      <th>0</th>\n",
       "      <td>1</td>\n",
       "      <td>a</td>\n",
       "      <td>AA</td>\n",
       "    </tr>\n",
       "    <tr>\n",
       "      <th>1</th>\n",
       "      <td>2</td>\n",
       "      <td>b</td>\n",
       "      <td>BB</td>\n",
       "    </tr>\n",
       "    <tr>\n",
       "      <th>2</th>\n",
       "      <td>3</td>\n",
       "      <td>c</td>\n",
       "      <td>CC</td>\n",
       "    </tr>\n",
       "  </tbody>\n",
       "</table>\n",
       "</div>"
      ],
      "text/plain": [
       "   numero letra letra2\n",
       "0       1     a     AA\n",
       "1       2     b     BB\n",
       "2       3     c     CC"
      ]
     },
     "execution_count": 242,
     "metadata": {},
     "output_type": "execute_result"
    }
   ],
   "source": [
    "df.join(df2.drop(columns=['numero']))"
   ]
  },
  {
   "cell_type": "code",
   "execution_count": 243,
   "metadata": {
    "colab": {
     "base_uri": "https://localhost:8080/",
     "height": 143
    },
    "id": "zDBuRtTcRvyn",
    "outputId": "d9909172-1f7a-46da-9e6c-a93a546b5ee9"
   },
   "outputs": [
    {
     "data": {
      "text/html": [
       "<div>\n",
       "<style scoped>\n",
       "    .dataframe tbody tr th:only-of-type {\n",
       "        vertical-align: middle;\n",
       "    }\n",
       "\n",
       "    .dataframe tbody tr th {\n",
       "        vertical-align: top;\n",
       "    }\n",
       "\n",
       "    .dataframe thead th {\n",
       "        text-align: right;\n",
       "    }\n",
       "</style>\n",
       "<table border=\"1\" class=\"dataframe\">\n",
       "  <thead>\n",
       "    <tr style=\"text-align: right;\">\n",
       "      <th></th>\n",
       "      <th>numero</th>\n",
       "      <th>letra</th>\n",
       "      <th>letra2</th>\n",
       "    </tr>\n",
       "  </thead>\n",
       "  <tbody>\n",
       "    <tr>\n",
       "      <th>0</th>\n",
       "      <td>1</td>\n",
       "      <td>a</td>\n",
       "      <td>AA</td>\n",
       "    </tr>\n",
       "    <tr>\n",
       "      <th>1</th>\n",
       "      <td>2</td>\n",
       "      <td>b</td>\n",
       "      <td>BB</td>\n",
       "    </tr>\n",
       "    <tr>\n",
       "      <th>2</th>\n",
       "      <td>3</td>\n",
       "      <td>c</td>\n",
       "      <td>CC</td>\n",
       "    </tr>\n",
       "  </tbody>\n",
       "</table>\n",
       "</div>"
      ],
      "text/plain": [
       "   numero letra letra2\n",
       "0       1     a     AA\n",
       "1       2     b     BB\n",
       "2       3     c     CC"
      ]
     },
     "execution_count": 243,
     "metadata": {},
     "output_type": "execute_result"
    }
   ],
   "source": [
    "df.merge(df2, how='left', on='numero')"
   ]
  },
  {
   "cell_type": "code",
   "execution_count": 244,
   "metadata": {
    "colab": {
     "base_uri": "https://localhost:8080/",
     "height": 81
    },
    "id": "61KdXn4GBdHf",
    "outputId": "d154c68c-5085-4c81-ef19-5f0cf44069b8"
   },
   "outputs": [
    {
     "data": {
      "text/html": [
       "<div>\n",
       "<style scoped>\n",
       "    .dataframe tbody tr th:only-of-type {\n",
       "        vertical-align: middle;\n",
       "    }\n",
       "\n",
       "    .dataframe tbody tr th {\n",
       "        vertical-align: top;\n",
       "    }\n",
       "\n",
       "    .dataframe thead th {\n",
       "        text-align: right;\n",
       "    }\n",
       "</style>\n",
       "<table border=\"1\" class=\"dataframe\">\n",
       "  <thead>\n",
       "    <tr style=\"text-align: right;\">\n",
       "      <th></th>\n",
       "      <th>numero</th>\n",
       "      <th>letra</th>\n",
       "    </tr>\n",
       "  </thead>\n",
       "  <tbody>\n",
       "    <tr>\n",
       "      <th>0</th>\n",
       "      <td>1</td>\n",
       "      <td>a</td>\n",
       "    </tr>\n",
       "  </tbody>\n",
       "</table>\n",
       "</div>"
      ],
      "text/plain": [
       "   numero letra\n",
       "0       1     a"
      ]
     },
     "execution_count": 244,
     "metadata": {},
     "output_type": "execute_result"
    }
   ],
   "source": [
    "# visualizando inicio e fim dos dados do dataframe\n",
    "df.head(1)"
   ]
  },
  {
   "cell_type": "code",
   "execution_count": 245,
   "metadata": {
    "colab": {
     "base_uri": "https://localhost:8080/",
     "height": 81
    },
    "id": "BgEXtaWtR-nb",
    "outputId": "34873d0c-7b60-4e5f-ca0d-b1c1b16269ea"
   },
   "outputs": [
    {
     "data": {
      "text/html": [
       "<div>\n",
       "<style scoped>\n",
       "    .dataframe tbody tr th:only-of-type {\n",
       "        vertical-align: middle;\n",
       "    }\n",
       "\n",
       "    .dataframe tbody tr th {\n",
       "        vertical-align: top;\n",
       "    }\n",
       "\n",
       "    .dataframe thead th {\n",
       "        text-align: right;\n",
       "    }\n",
       "</style>\n",
       "<table border=\"1\" class=\"dataframe\">\n",
       "  <thead>\n",
       "    <tr style=\"text-align: right;\">\n",
       "      <th></th>\n",
       "      <th>numero</th>\n",
       "      <th>letra</th>\n",
       "    </tr>\n",
       "  </thead>\n",
       "  <tbody>\n",
       "    <tr>\n",
       "      <th>2</th>\n",
       "      <td>3</td>\n",
       "      <td>c</td>\n",
       "    </tr>\n",
       "  </tbody>\n",
       "</table>\n",
       "</div>"
      ],
      "text/plain": [
       "   numero letra\n",
       "2       3     c"
      ]
     },
     "execution_count": 245,
     "metadata": {},
     "output_type": "execute_result"
    }
   ],
   "source": [
    "df.tail(1)"
   ]
  },
  {
   "cell_type": "code",
   "execution_count": 246,
   "metadata": {
    "colab": {
     "base_uri": "https://localhost:8080/"
    },
    "id": "aV9DzHCzBdEJ",
    "outputId": "07e60501-eba5-404f-b526-36b37042bac0"
   },
   "outputs": [
    {
     "name": "stdout",
     "output_type": "stream",
     "text": [
      "<class 'pandas.core.frame.DataFrame'>\n",
      "RangeIndex: 3 entries, 0 to 2\n",
      "Data columns (total 2 columns):\n",
      " #   Column  Non-Null Count  Dtype \n",
      "---  ------  --------------  ----- \n",
      " 0   numero  3 non-null      int64 \n",
      " 1   letra   3 non-null      object\n",
      "dtypes: int64(1), object(1)\n",
      "memory usage: 176.0+ bytes\n"
     ]
    }
   ],
   "source": [
    "# informações do dataframe\n",
    "df.info()"
   ]
  },
  {
   "cell_type": "code",
   "execution_count": 247,
   "metadata": {
    "colab": {
     "base_uri": "https://localhost:8080/",
     "height": 143
    },
    "id": "izChD904BdAK",
    "outputId": "afa5baf4-e7e5-457d-d0d5-cff96b7d1bb7"
   },
   "outputs": [
    {
     "data": {
      "text/html": [
       "<div>\n",
       "<style scoped>\n",
       "    .dataframe tbody tr th:only-of-type {\n",
       "        vertical-align: middle;\n",
       "    }\n",
       "\n",
       "    .dataframe tbody tr th {\n",
       "        vertical-align: top;\n",
       "    }\n",
       "\n",
       "    .dataframe thead th {\n",
       "        text-align: right;\n",
       "    }\n",
       "</style>\n",
       "<table border=\"1\" class=\"dataframe\">\n",
       "  <thead>\n",
       "    <tr style=\"text-align: right;\">\n",
       "      <th></th>\n",
       "      <th>numero</th>\n",
       "      <th>letra</th>\n",
       "    </tr>\n",
       "  </thead>\n",
       "  <tbody>\n",
       "    <tr>\n",
       "      <th>0</th>\n",
       "      <td>False</td>\n",
       "      <td>False</td>\n",
       "    </tr>\n",
       "    <tr>\n",
       "      <th>1</th>\n",
       "      <td>False</td>\n",
       "      <td>False</td>\n",
       "    </tr>\n",
       "    <tr>\n",
       "      <th>2</th>\n",
       "      <td>False</td>\n",
       "      <td>False</td>\n",
       "    </tr>\n",
       "  </tbody>\n",
       "</table>\n",
       "</div>"
      ],
      "text/plain": [
       "   numero  letra\n",
       "0   False  False\n",
       "1   False  False\n",
       "2   False  False"
      ]
     },
     "execution_count": 247,
     "metadata": {},
     "output_type": "execute_result"
    }
   ],
   "source": [
    "# verificando dados nulos\n",
    "df.isna()"
   ]
  },
  {
   "cell_type": "code",
   "execution_count": 248,
   "metadata": {
    "colab": {
     "base_uri": "https://localhost:8080/"
    },
    "id": "eDD61AabSRma",
    "outputId": "87576bd9-77ba-4b6e-9971-39e50dde6ec2"
   },
   "outputs": [
    {
     "data": {
      "text/plain": [
       "numero    0\n",
       "letra     0\n",
       "dtype: int64"
      ]
     },
     "execution_count": 248,
     "metadata": {},
     "output_type": "execute_result"
    }
   ],
   "source": [
    "df.isna().sum()"
   ]
  },
  {
   "cell_type": "code",
   "execution_count": 249,
   "metadata": {
    "colab": {
     "base_uri": "https://localhost:8080/",
     "height": 143
    },
    "id": "uBjBFgCdCWtH",
    "outputId": "210ab8ec-d0ed-4a27-a041-8fa45d0daf17"
   },
   "outputs": [
    {
     "data": {
      "text/html": [
       "<div>\n",
       "<style scoped>\n",
       "    .dataframe tbody tr th:only-of-type {\n",
       "        vertical-align: middle;\n",
       "    }\n",
       "\n",
       "    .dataframe tbody tr th {\n",
       "        vertical-align: top;\n",
       "    }\n",
       "\n",
       "    .dataframe thead th {\n",
       "        text-align: right;\n",
       "    }\n",
       "</style>\n",
       "<table border=\"1\" class=\"dataframe\">\n",
       "  <thead>\n",
       "    <tr style=\"text-align: right;\">\n",
       "      <th></th>\n",
       "      <th>numero</th>\n",
       "      <th>letra</th>\n",
       "    </tr>\n",
       "  </thead>\n",
       "  <tbody>\n",
       "    <tr>\n",
       "      <th>0</th>\n",
       "      <td>True</td>\n",
       "      <td>True</td>\n",
       "    </tr>\n",
       "    <tr>\n",
       "      <th>1</th>\n",
       "      <td>True</td>\n",
       "      <td>True</td>\n",
       "    </tr>\n",
       "    <tr>\n",
       "      <th>2</th>\n",
       "      <td>True</td>\n",
       "      <td>True</td>\n",
       "    </tr>\n",
       "  </tbody>\n",
       "</table>\n",
       "</div>"
      ],
      "text/plain": [
       "   numero  letra\n",
       "0    True   True\n",
       "1    True   True\n",
       "2    True   True"
      ]
     },
     "execution_count": 249,
     "metadata": {},
     "output_type": "execute_result"
    }
   ],
   "source": [
    "# verificando dados não nulos\n",
    "df.notna()"
   ]
  },
  {
   "cell_type": "code",
   "execution_count": 250,
   "metadata": {
    "colab": {
     "base_uri": "https://localhost:8080/"
    },
    "id": "mFhoa7lEShNK",
    "outputId": "f9b69261-c546-4bd0-9681-f675800e5306"
   },
   "outputs": [
    {
     "data": {
      "text/plain": [
       "numero    3\n",
       "letra     3\n",
       "dtype: int64"
      ]
     },
     "execution_count": 250,
     "metadata": {},
     "output_type": "execute_result"
    }
   ],
   "source": [
    "df.notna().sum()"
   ]
  },
  {
   "cell_type": "code",
   "execution_count": 251,
   "metadata": {
    "colab": {
     "base_uri": "https://localhost:8080/"
    },
    "id": "u7ALSNC1CZJB",
    "outputId": "a609ba0b-f51d-4afa-d096-6ee44f1abf28"
   },
   "outputs": [
    {
     "data": {
      "text/plain": [
       "0    False\n",
       "1    False\n",
       "2    False\n",
       "dtype: bool"
      ]
     },
     "execution_count": 251,
     "metadata": {},
     "output_type": "execute_result"
    }
   ],
   "source": [
    "# verificando dados duplicados\n",
    "df.duplicated()"
   ]
  },
  {
   "cell_type": "code",
   "execution_count": 252,
   "metadata": {
    "colab": {
     "base_uri": "https://localhost:8080/"
    },
    "id": "RJpQa4EvSsbz",
    "outputId": "323b91fd-d476-4110-fb42-f70c7eabaa55"
   },
   "outputs": [
    {
     "data": {
      "text/plain": [
       "0"
      ]
     },
     "execution_count": 252,
     "metadata": {},
     "output_type": "execute_result"
    }
   ],
   "source": [
    "df.duplicated().sum()"
   ]
  },
  {
   "cell_type": "code",
   "execution_count": 253,
   "metadata": {
    "id": "sWYuJPcnCejU"
   },
   "outputs": [],
   "source": [
    "# deletando colunas\n",
    "df.drop(columns=['numero'],inplace=True)"
   ]
  },
  {
   "cell_type": "code",
   "execution_count": 254,
   "metadata": {
    "colab": {
     "base_uri": "https://localhost:8080/",
     "height": 143
    },
    "id": "HbfNt2U4S6OG",
    "outputId": "09fc97c6-e560-4ab4-a041-02b2b6020b60"
   },
   "outputs": [
    {
     "data": {
      "text/html": [
       "<div>\n",
       "<style scoped>\n",
       "    .dataframe tbody tr th:only-of-type {\n",
       "        vertical-align: middle;\n",
       "    }\n",
       "\n",
       "    .dataframe tbody tr th {\n",
       "        vertical-align: top;\n",
       "    }\n",
       "\n",
       "    .dataframe thead th {\n",
       "        text-align: right;\n",
       "    }\n",
       "</style>\n",
       "<table border=\"1\" class=\"dataframe\">\n",
       "  <thead>\n",
       "    <tr style=\"text-align: right;\">\n",
       "      <th></th>\n",
       "      <th>letra</th>\n",
       "    </tr>\n",
       "  </thead>\n",
       "  <tbody>\n",
       "    <tr>\n",
       "      <th>0</th>\n",
       "      <td>a</td>\n",
       "    </tr>\n",
       "    <tr>\n",
       "      <th>1</th>\n",
       "      <td>b</td>\n",
       "    </tr>\n",
       "    <tr>\n",
       "      <th>2</th>\n",
       "      <td>c</td>\n",
       "    </tr>\n",
       "  </tbody>\n",
       "</table>\n",
       "</div>"
      ],
      "text/plain": [
       "  letra\n",
       "0     a\n",
       "1     b\n",
       "2     c"
      ]
     },
     "execution_count": 254,
     "metadata": {},
     "output_type": "execute_result"
    }
   ],
   "source": [
    "df"
   ]
  },
  {
   "cell_type": "code",
   "execution_count": 255,
   "metadata": {
    "colab": {
     "base_uri": "https://localhost:8080/",
     "height": 112
    },
    "id": "WJ5luK7BCpL6",
    "outputId": "bad30f9c-a4b0-41fb-c59e-888eb7b9a375"
   },
   "outputs": [
    {
     "data": {
      "text/html": [
       "<div>\n",
       "<style scoped>\n",
       "    .dataframe tbody tr th:only-of-type {\n",
       "        vertical-align: middle;\n",
       "    }\n",
       "\n",
       "    .dataframe tbody tr th {\n",
       "        vertical-align: top;\n",
       "    }\n",
       "\n",
       "    .dataframe thead th {\n",
       "        text-align: right;\n",
       "    }\n",
       "</style>\n",
       "<table border=\"1\" class=\"dataframe\">\n",
       "  <thead>\n",
       "    <tr style=\"text-align: right;\">\n",
       "      <th></th>\n",
       "      <th>numero</th>\n",
       "      <th>letra2</th>\n",
       "    </tr>\n",
       "  </thead>\n",
       "  <tbody>\n",
       "    <tr>\n",
       "      <th>1</th>\n",
       "      <td>2</td>\n",
       "      <td>BB</td>\n",
       "    </tr>\n",
       "    <tr>\n",
       "      <th>2</th>\n",
       "      <td>3</td>\n",
       "      <td>CC</td>\n",
       "    </tr>\n",
       "  </tbody>\n",
       "</table>\n",
       "</div>"
      ],
      "text/plain": [
       "   numero letra2\n",
       "1       2     BB\n",
       "2       3     CC"
      ]
     },
     "execution_count": 255,
     "metadata": {},
     "output_type": "execute_result"
    }
   ],
   "source": [
    "# filtrando valores\n",
    "df2[df2['numero']>1]"
   ]
  },
  {
   "cell_type": "code",
   "execution_count": 256,
   "metadata": {
    "colab": {
     "base_uri": "https://localhost:8080/",
     "height": 112
    },
    "id": "fWaMZ1ZCTKIs",
    "outputId": "b141897d-3b7b-4944-b391-6a07f4aea9b6"
   },
   "outputs": [
    {
     "data": {
      "text/html": [
       "<div>\n",
       "<style scoped>\n",
       "    .dataframe tbody tr th:only-of-type {\n",
       "        vertical-align: middle;\n",
       "    }\n",
       "\n",
       "    .dataframe tbody tr th {\n",
       "        vertical-align: top;\n",
       "    }\n",
       "\n",
       "    .dataframe thead th {\n",
       "        text-align: right;\n",
       "    }\n",
       "</style>\n",
       "<table border=\"1\" class=\"dataframe\">\n",
       "  <thead>\n",
       "    <tr style=\"text-align: right;\">\n",
       "      <th></th>\n",
       "      <th>numero</th>\n",
       "      <th>letra2</th>\n",
       "    </tr>\n",
       "  </thead>\n",
       "  <tbody>\n",
       "    <tr>\n",
       "      <th>1</th>\n",
       "      <td>2</td>\n",
       "      <td>BB</td>\n",
       "    </tr>\n",
       "    <tr>\n",
       "      <th>2</th>\n",
       "      <td>3</td>\n",
       "      <td>CC</td>\n",
       "    </tr>\n",
       "  </tbody>\n",
       "</table>\n",
       "</div>"
      ],
      "text/plain": [
       "   numero letra2\n",
       "1       2     BB\n",
       "2       3     CC"
      ]
     },
     "execution_count": 256,
     "metadata": {},
     "output_type": "execute_result"
    }
   ],
   "source": [
    "df2.query('numero > 1')"
   ]
  },
  {
   "cell_type": "code",
   "execution_count": 257,
   "metadata": {
    "colab": {
     "base_uri": "https://localhost:8080/",
     "height": 143
    },
    "id": "uBWipCPTCr6p",
    "outputId": "e54b70db-51c9-4c51-8a44-43819fcf738f"
   },
   "outputs": [
    {
     "data": {
      "text/html": [
       "<div>\n",
       "<style scoped>\n",
       "    .dataframe tbody tr th:only-of-type {\n",
       "        vertical-align: middle;\n",
       "    }\n",
       "\n",
       "    .dataframe tbody tr th {\n",
       "        vertical-align: top;\n",
       "    }\n",
       "\n",
       "    .dataframe thead th {\n",
       "        text-align: right;\n",
       "    }\n",
       "</style>\n",
       "<table border=\"1\" class=\"dataframe\">\n",
       "  <thead>\n",
       "    <tr style=\"text-align: right;\">\n",
       "      <th></th>\n",
       "      <th>numero</th>\n",
       "      <th>letra2</th>\n",
       "    </tr>\n",
       "  </thead>\n",
       "  <tbody>\n",
       "    <tr>\n",
       "      <th>0</th>\n",
       "      <td>10</td>\n",
       "      <td>AA</td>\n",
       "    </tr>\n",
       "    <tr>\n",
       "      <th>1</th>\n",
       "      <td>2</td>\n",
       "      <td>BB</td>\n",
       "    </tr>\n",
       "    <tr>\n",
       "      <th>2</th>\n",
       "      <td>3</td>\n",
       "      <td>CC</td>\n",
       "    </tr>\n",
       "  </tbody>\n",
       "</table>\n",
       "</div>"
      ],
      "text/plain": [
       "   numero letra2\n",
       "0      10     AA\n",
       "1       2     BB\n",
       "2       3     CC"
      ]
     },
     "execution_count": 257,
     "metadata": {},
     "output_type": "execute_result"
    }
   ],
   "source": [
    "# substituindo valores\n",
    "df2.replace(1,10)"
   ]
  },
  {
   "cell_type": "code",
   "execution_count": 258,
   "metadata": {
    "colab": {
     "base_uri": "https://localhost:8080/",
     "height": 143
    },
    "id": "CxQhVtvdTZXF",
    "outputId": "38f6cf91-bc00-4d7c-9c14-dd0bc9258681"
   },
   "outputs": [
    {
     "data": {
      "text/html": [
       "<div>\n",
       "<style scoped>\n",
       "    .dataframe tbody tr th:only-of-type {\n",
       "        vertical-align: middle;\n",
       "    }\n",
       "\n",
       "    .dataframe tbody tr th {\n",
       "        vertical-align: top;\n",
       "    }\n",
       "\n",
       "    .dataframe thead th {\n",
       "        text-align: right;\n",
       "    }\n",
       "</style>\n",
       "<table border=\"1\" class=\"dataframe\">\n",
       "  <thead>\n",
       "    <tr style=\"text-align: right;\">\n",
       "      <th></th>\n",
       "      <th>numero</th>\n",
       "      <th>letra2</th>\n",
       "    </tr>\n",
       "  </thead>\n",
       "  <tbody>\n",
       "    <tr>\n",
       "      <th>0</th>\n",
       "      <td>10</td>\n",
       "      <td>AA</td>\n",
       "    </tr>\n",
       "    <tr>\n",
       "      <th>1</th>\n",
       "      <td>20</td>\n",
       "      <td>BB</td>\n",
       "    </tr>\n",
       "    <tr>\n",
       "      <th>2</th>\n",
       "      <td>3</td>\n",
       "      <td>CC</td>\n",
       "    </tr>\n",
       "  </tbody>\n",
       "</table>\n",
       "</div>"
      ],
      "text/plain": [
       "   numero letra2\n",
       "0      10     AA\n",
       "1      20     BB\n",
       "2       3     CC"
      ]
     },
     "execution_count": 258,
     "metadata": {},
     "output_type": "execute_result"
    }
   ],
   "source": [
    "dic = {1:10,2:20}\n",
    "df2.replace(dic)"
   ]
  },
  {
   "cell_type": "markdown",
   "metadata": {
    "id": "dX3dF6vqE6Md"
   },
   "source": [
    "### Revisão Resumo"
   ]
  },
  {
   "cell_type": "markdown",
   "metadata": {
    "id": "PppH4NQxE8cP"
   },
   "source": [
    "![resumo.jpeg](data:image/jpeg;base64,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)"
   ]
  },
  {
   "cell_type": "markdown",
   "metadata": {
    "id": "2tBrB4SeLUlD"
   },
   "source": [
    "### Projeto Final"
   ]
  },
  {
   "cell_type": "markdown",
   "metadata": {
    "id": "DKwGY2B0LJjC"
   },
   "source": [
    "Base de Dados: https://www.kaggle.com/datasets/shivamb/netflix-shows"
   ]
  },
  {
   "cell_type": "markdown",
   "metadata": {
    "id": "TgO_mcOgUyY-"
   },
   "source": [
    "**Questão 1 -** Aplicar todos os conhecimentos para realizar uma EDA (Exploratory Data Analysis) ou Análise Exploratória dos Dados utilizando a base de dados disponibilizada acima. Em seguida, criar um repositório público no GitHub de nome \"projeto-final\" e armazenar no notebook criado."
   ]
  },
  {
   "cell_type": "code",
   "execution_count": 5,
   "metadata": {},
   "outputs": [],
   "source": [
    "import pandas as pd"
   ]
  },
  {
   "cell_type": "markdown",
   "metadata": {
    "id": "w9kSYg5YVio0"
   },
   "source": [
    "**a -** importar os dados da base disponibilizada no link do Kaggle."
   ]
  },
  {
   "cell_type": "code",
   "execution_count": 7,
   "metadata": {
    "id": "gib6vacBJSBn"
   },
   "outputs": [],
   "source": [
    "\n",
    "#netflix = pd.read_csv('datasets/netflix_titles.csv')\n",
    "\n",
    "netflix = pd.read_csv('C:/Users/pedro/Documents/GitHub/aula-8/netflix_titles.csv')"
   ]
  },
  {
   "cell_type": "markdown",
   "metadata": {
    "id": "owkPIXH7VwzM"
   },
   "source": [
    "**b -** visualizar os dados importados, 3 primeiros registros e 3 últimos."
   ]
  },
  {
   "cell_type": "code",
   "execution_count": 8,
   "metadata": {
    "id": "4Vnn_wBAJBet"
   },
   "outputs": [
    {
     "data": {
      "text/html": [
       "<div>\n",
       "<style scoped>\n",
       "    .dataframe tbody tr th:only-of-type {\n",
       "        vertical-align: middle;\n",
       "    }\n",
       "\n",
       "    .dataframe tbody tr th {\n",
       "        vertical-align: top;\n",
       "    }\n",
       "\n",
       "    .dataframe thead th {\n",
       "        text-align: right;\n",
       "    }\n",
       "</style>\n",
       "<table border=\"1\" class=\"dataframe\">\n",
       "  <thead>\n",
       "    <tr style=\"text-align: right;\">\n",
       "      <th></th>\n",
       "      <th>show_id</th>\n",
       "      <th>type</th>\n",
       "      <th>title</th>\n",
       "      <th>director</th>\n",
       "      <th>cast</th>\n",
       "      <th>country</th>\n",
       "      <th>date_added</th>\n",
       "      <th>release_year</th>\n",
       "      <th>rating</th>\n",
       "      <th>duration</th>\n",
       "      <th>listed_in</th>\n",
       "      <th>description</th>\n",
       "    </tr>\n",
       "  </thead>\n",
       "  <tbody>\n",
       "    <tr>\n",
       "      <th>0</th>\n",
       "      <td>s1</td>\n",
       "      <td>Movie</td>\n",
       "      <td>Dick Johnson Is Dead</td>\n",
       "      <td>Kirsten Johnson</td>\n",
       "      <td>NaN</td>\n",
       "      <td>United States</td>\n",
       "      <td>September 25, 2021</td>\n",
       "      <td>2020</td>\n",
       "      <td>PG-13</td>\n",
       "      <td>90 min</td>\n",
       "      <td>Documentaries</td>\n",
       "      <td>As her father nears the end of his life, filmm...</td>\n",
       "    </tr>\n",
       "    <tr>\n",
       "      <th>1</th>\n",
       "      <td>s2</td>\n",
       "      <td>TV Show</td>\n",
       "      <td>Blood &amp; Water</td>\n",
       "      <td>NaN</td>\n",
       "      <td>Ama Qamata, Khosi Ngema, Gail Mabalane, Thaban...</td>\n",
       "      <td>South Africa</td>\n",
       "      <td>September 24, 2021</td>\n",
       "      <td>2021</td>\n",
       "      <td>TV-MA</td>\n",
       "      <td>2 Seasons</td>\n",
       "      <td>International TV Shows, TV Dramas, TV Mysteries</td>\n",
       "      <td>After crossing paths at a party, a Cape Town t...</td>\n",
       "    </tr>\n",
       "    <tr>\n",
       "      <th>2</th>\n",
       "      <td>s3</td>\n",
       "      <td>TV Show</td>\n",
       "      <td>Ganglands</td>\n",
       "      <td>Julien Leclercq</td>\n",
       "      <td>Sami Bouajila, Tracy Gotoas, Samuel Jouy, Nabi...</td>\n",
       "      <td>NaN</td>\n",
       "      <td>September 24, 2021</td>\n",
       "      <td>2021</td>\n",
       "      <td>TV-MA</td>\n",
       "      <td>1 Season</td>\n",
       "      <td>Crime TV Shows, International TV Shows, TV Act...</td>\n",
       "      <td>To protect his family from a powerful drug lor...</td>\n",
       "    </tr>\n",
       "  </tbody>\n",
       "</table>\n",
       "</div>"
      ],
      "text/plain": [
       "  show_id     type                 title         director  \\\n",
       "0      s1    Movie  Dick Johnson Is Dead  Kirsten Johnson   \n",
       "1      s2  TV Show         Blood & Water              NaN   \n",
       "2      s3  TV Show             Ganglands  Julien Leclercq   \n",
       "\n",
       "                                                cast        country  \\\n",
       "0                                                NaN  United States   \n",
       "1  Ama Qamata, Khosi Ngema, Gail Mabalane, Thaban...   South Africa   \n",
       "2  Sami Bouajila, Tracy Gotoas, Samuel Jouy, Nabi...            NaN   \n",
       "\n",
       "           date_added  release_year rating   duration  \\\n",
       "0  September 25, 2021          2020  PG-13     90 min   \n",
       "1  September 24, 2021          2021  TV-MA  2 Seasons   \n",
       "2  September 24, 2021          2021  TV-MA   1 Season   \n",
       "\n",
       "                                           listed_in  \\\n",
       "0                                      Documentaries   \n",
       "1    International TV Shows, TV Dramas, TV Mysteries   \n",
       "2  Crime TV Shows, International TV Shows, TV Act...   \n",
       "\n",
       "                                         description  \n",
       "0  As her father nears the end of his life, filmm...  \n",
       "1  After crossing paths at a party, a Cape Town t...  \n",
       "2  To protect his family from a powerful drug lor...  "
      ]
     },
     "execution_count": 8,
     "metadata": {},
     "output_type": "execute_result"
    }
   ],
   "source": [
    "netflix.head(3)"
   ]
  },
  {
   "cell_type": "code",
   "execution_count": 9,
   "metadata": {},
   "outputs": [
    {
     "data": {
      "text/html": [
       "<div>\n",
       "<style scoped>\n",
       "    .dataframe tbody tr th:only-of-type {\n",
       "        vertical-align: middle;\n",
       "    }\n",
       "\n",
       "    .dataframe tbody tr th {\n",
       "        vertical-align: top;\n",
       "    }\n",
       "\n",
       "    .dataframe thead th {\n",
       "        text-align: right;\n",
       "    }\n",
       "</style>\n",
       "<table border=\"1\" class=\"dataframe\">\n",
       "  <thead>\n",
       "    <tr style=\"text-align: right;\">\n",
       "      <th></th>\n",
       "      <th>show_id</th>\n",
       "      <th>type</th>\n",
       "      <th>title</th>\n",
       "      <th>director</th>\n",
       "      <th>cast</th>\n",
       "      <th>country</th>\n",
       "      <th>date_added</th>\n",
       "      <th>release_year</th>\n",
       "      <th>rating</th>\n",
       "      <th>duration</th>\n",
       "      <th>listed_in</th>\n",
       "      <th>description</th>\n",
       "    </tr>\n",
       "  </thead>\n",
       "  <tbody>\n",
       "    <tr>\n",
       "      <th>8804</th>\n",
       "      <td>s8805</td>\n",
       "      <td>Movie</td>\n",
       "      <td>Zombieland</td>\n",
       "      <td>Ruben Fleischer</td>\n",
       "      <td>Jesse Eisenberg, Woody Harrelson, Emma Stone, ...</td>\n",
       "      <td>United States</td>\n",
       "      <td>November 1, 2019</td>\n",
       "      <td>2009</td>\n",
       "      <td>R</td>\n",
       "      <td>88 min</td>\n",
       "      <td>Comedies, Horror Movies</td>\n",
       "      <td>Looking to survive in a world taken over by zo...</td>\n",
       "    </tr>\n",
       "    <tr>\n",
       "      <th>8805</th>\n",
       "      <td>s8806</td>\n",
       "      <td>Movie</td>\n",
       "      <td>Zoom</td>\n",
       "      <td>Peter Hewitt</td>\n",
       "      <td>Tim Allen, Courteney Cox, Chevy Chase, Kate Ma...</td>\n",
       "      <td>United States</td>\n",
       "      <td>January 11, 2020</td>\n",
       "      <td>2006</td>\n",
       "      <td>PG</td>\n",
       "      <td>88 min</td>\n",
       "      <td>Children &amp; Family Movies, Comedies</td>\n",
       "      <td>Dragged from civilian life, a former superhero...</td>\n",
       "    </tr>\n",
       "    <tr>\n",
       "      <th>8806</th>\n",
       "      <td>s8807</td>\n",
       "      <td>Movie</td>\n",
       "      <td>Zubaan</td>\n",
       "      <td>Mozez Singh</td>\n",
       "      <td>Vicky Kaushal, Sarah-Jane Dias, Raaghav Chanan...</td>\n",
       "      <td>India</td>\n",
       "      <td>March 2, 2019</td>\n",
       "      <td>2015</td>\n",
       "      <td>TV-14</td>\n",
       "      <td>111 min</td>\n",
       "      <td>Dramas, International Movies, Music &amp; Musicals</td>\n",
       "      <td>A scrappy but poor boy worms his way into a ty...</td>\n",
       "    </tr>\n",
       "  </tbody>\n",
       "</table>\n",
       "</div>"
      ],
      "text/plain": [
       "     show_id   type       title         director  \\\n",
       "8804   s8805  Movie  Zombieland  Ruben Fleischer   \n",
       "8805   s8806  Movie        Zoom     Peter Hewitt   \n",
       "8806   s8807  Movie      Zubaan      Mozez Singh   \n",
       "\n",
       "                                                   cast        country  \\\n",
       "8804  Jesse Eisenberg, Woody Harrelson, Emma Stone, ...  United States   \n",
       "8805  Tim Allen, Courteney Cox, Chevy Chase, Kate Ma...  United States   \n",
       "8806  Vicky Kaushal, Sarah-Jane Dias, Raaghav Chanan...          India   \n",
       "\n",
       "            date_added  release_year rating duration  \\\n",
       "8804  November 1, 2019          2009      R   88 min   \n",
       "8805  January 11, 2020          2006     PG   88 min   \n",
       "8806     March 2, 2019          2015  TV-14  111 min   \n",
       "\n",
       "                                           listed_in  \\\n",
       "8804                         Comedies, Horror Movies   \n",
       "8805              Children & Family Movies, Comedies   \n",
       "8806  Dramas, International Movies, Music & Musicals   \n",
       "\n",
       "                                            description  \n",
       "8804  Looking to survive in a world taken over by zo...  \n",
       "8805  Dragged from civilian life, a former superhero...  \n",
       "8806  A scrappy but poor boy worms his way into a ty...  "
      ]
     },
     "execution_count": 9,
     "metadata": {},
     "output_type": "execute_result"
    }
   ],
   "source": [
    "netflix.tail(3)"
   ]
  },
  {
   "cell_type": "code",
   "execution_count": null,
   "metadata": {},
   "outputs": [],
   "source": []
  },
  {
   "cell_type": "markdown",
   "metadata": {
    "id": "DdDdPKbJV7SB"
   },
   "source": [
    "**c -** visualizar o tamanho do dataset."
   ]
  },
  {
   "cell_type": "code",
   "execution_count": 10,
   "metadata": {
    "id": "-vrRFtDwLX9b"
   },
   "outputs": [
    {
     "name": "stdout",
     "output_type": "stream",
     "text": [
      "<class 'pandas.core.frame.DataFrame'>\n",
      "RangeIndex: 8807 entries, 0 to 8806\n",
      "Data columns (total 12 columns):\n",
      " #   Column        Non-Null Count  Dtype \n",
      "---  ------        --------------  ----- \n",
      " 0   show_id       8807 non-null   object\n",
      " 1   type          8807 non-null   object\n",
      " 2   title         8807 non-null   object\n",
      " 3   director      6173 non-null   object\n",
      " 4   cast          7982 non-null   object\n",
      " 5   country       7976 non-null   object\n",
      " 6   date_added    8797 non-null   object\n",
      " 7   release_year  8807 non-null   int64 \n",
      " 8   rating        8803 non-null   object\n",
      " 9   duration      8804 non-null   object\n",
      " 10  listed_in     8807 non-null   object\n",
      " 11  description   8807 non-null   object\n",
      "dtypes: int64(1), object(11)\n",
      "memory usage: 825.8+ KB\n"
     ]
    }
   ],
   "source": [
    "netflix.info()"
   ]
  },
  {
   "cell_type": "code",
   "execution_count": 264,
   "metadata": {},
   "outputs": [
    {
     "data": {
      "text/plain": [
       "(8807, 12)"
      ]
     },
     "execution_count": 264,
     "metadata": {},
     "output_type": "execute_result"
    }
   ],
   "source": [
    "netflix.shape"
   ]
  },
  {
   "cell_type": "markdown",
   "metadata": {
    "id": "QNc-yiHSWBjR"
   },
   "source": [
    "**d -** exibir as colunas do dataframe."
   ]
  },
  {
   "cell_type": "code",
   "execution_count": 265,
   "metadata": {
    "id": "p-kE5WiRLX54"
   },
   "outputs": [
    {
     "data": {
      "text/plain": [
       "Index(['show_id', 'type', 'title', 'director', 'cast', 'country', 'date_added',\n",
       "       'release_year', 'rating', 'duration', 'listed_in', 'description'],\n",
       "      dtype='object')"
      ]
     },
     "execution_count": 265,
     "metadata": {},
     "output_type": "execute_result"
    }
   ],
   "source": [
    "netflix.columns"
   ]
  },
  {
   "cell_type": "markdown",
   "metadata": {
    "id": "-P6-A-QrWHdG"
   },
   "source": [
    "**e -** identificar os tipos de dados das colunas."
   ]
  },
  {
   "cell_type": "code",
   "execution_count": 266,
   "metadata": {
    "id": "eYpj87MILX2v"
   },
   "outputs": [
    {
     "name": "stdout",
     "output_type": "stream",
     "text": [
      "<class 'pandas.core.frame.DataFrame'>\n",
      "RangeIndex: 8807 entries, 0 to 8806\n",
      "Data columns (total 12 columns):\n",
      " #   Column        Non-Null Count  Dtype \n",
      "---  ------        --------------  ----- \n",
      " 0   show_id       8807 non-null   object\n",
      " 1   type          8807 non-null   object\n",
      " 2   title         8807 non-null   object\n",
      " 3   director      6173 non-null   object\n",
      " 4   cast          7982 non-null   object\n",
      " 5   country       7976 non-null   object\n",
      " 6   date_added    8797 non-null   object\n",
      " 7   release_year  8807 non-null   int64 \n",
      " 8   rating        8803 non-null   object\n",
      " 9   duration      8804 non-null   object\n",
      " 10  listed_in     8807 non-null   object\n",
      " 11  description   8807 non-null   object\n",
      "dtypes: int64(1), object(11)\n",
      "memory usage: 825.8+ KB\n"
     ]
    }
   ],
   "source": [
    "netflix.info()"
   ]
  },
  {
   "cell_type": "markdown",
   "metadata": {
    "id": "5ycxDCW7WPWp"
   },
   "source": [
    "**f -** informações gerais do dataframe."
   ]
  },
  {
   "cell_type": "code",
   "execution_count": 267,
   "metadata": {
    "id": "uVwJiA78LXz3"
   },
   "outputs": [
    {
     "name": "stdout",
     "output_type": "stream",
     "text": [
      "<class 'pandas.core.frame.DataFrame'>\n",
      "RangeIndex: 8807 entries, 0 to 8806\n",
      "Data columns (total 12 columns):\n",
      " #   Column        Non-Null Count  Dtype \n",
      "---  ------        --------------  ----- \n",
      " 0   show_id       8807 non-null   object\n",
      " 1   type          8807 non-null   object\n",
      " 2   title         8807 non-null   object\n",
      " 3   director      6173 non-null   object\n",
      " 4   cast          7982 non-null   object\n",
      " 5   country       7976 non-null   object\n",
      " 6   date_added    8797 non-null   object\n",
      " 7   release_year  8807 non-null   int64 \n",
      " 8   rating        8803 non-null   object\n",
      " 9   duration      8804 non-null   object\n",
      " 10  listed_in     8807 non-null   object\n",
      " 11  description   8807 non-null   object\n",
      "dtypes: int64(1), object(11)\n",
      "memory usage: 825.8+ KB\n"
     ]
    }
   ],
   "source": [
    "netflix.info()"
   ]
  },
  {
   "cell_type": "markdown",
   "metadata": {
    "id": "thSIbupdWWhb"
   },
   "source": [
    "**g -** informações estatísticas das variáveis numéricas."
   ]
  },
  {
   "cell_type": "code",
   "execution_count": 268,
   "metadata": {
    "id": "X7LMI2DuLXw4"
   },
   "outputs": [
    {
     "data": {
      "text/html": [
       "<div>\n",
       "<style scoped>\n",
       "    .dataframe tbody tr th:only-of-type {\n",
       "        vertical-align: middle;\n",
       "    }\n",
       "\n",
       "    .dataframe tbody tr th {\n",
       "        vertical-align: top;\n",
       "    }\n",
       "\n",
       "    .dataframe thead th {\n",
       "        text-align: right;\n",
       "    }\n",
       "</style>\n",
       "<table border=\"1\" class=\"dataframe\">\n",
       "  <thead>\n",
       "    <tr style=\"text-align: right;\">\n",
       "      <th></th>\n",
       "      <th>release_year</th>\n",
       "    </tr>\n",
       "  </thead>\n",
       "  <tbody>\n",
       "    <tr>\n",
       "      <th>count</th>\n",
       "      <td>8807.000000</td>\n",
       "    </tr>\n",
       "    <tr>\n",
       "      <th>mean</th>\n",
       "      <td>2014.180198</td>\n",
       "    </tr>\n",
       "    <tr>\n",
       "      <th>std</th>\n",
       "      <td>8.819312</td>\n",
       "    </tr>\n",
       "    <tr>\n",
       "      <th>min</th>\n",
       "      <td>1925.000000</td>\n",
       "    </tr>\n",
       "    <tr>\n",
       "      <th>25%</th>\n",
       "      <td>2013.000000</td>\n",
       "    </tr>\n",
       "    <tr>\n",
       "      <th>50%</th>\n",
       "      <td>2017.000000</td>\n",
       "    </tr>\n",
       "    <tr>\n",
       "      <th>75%</th>\n",
       "      <td>2019.000000</td>\n",
       "    </tr>\n",
       "    <tr>\n",
       "      <th>max</th>\n",
       "      <td>2021.000000</td>\n",
       "    </tr>\n",
       "  </tbody>\n",
       "</table>\n",
       "</div>"
      ],
      "text/plain": [
       "       release_year\n",
       "count   8807.000000\n",
       "mean    2014.180198\n",
       "std        8.819312\n",
       "min     1925.000000\n",
       "25%     2013.000000\n",
       "50%     2017.000000\n",
       "75%     2019.000000\n",
       "max     2021.000000"
      ]
     },
     "execution_count": 268,
     "metadata": {},
     "output_type": "execute_result"
    }
   ],
   "source": [
    "netflix.describe()"
   ]
  },
  {
   "cell_type": "markdown",
   "metadata": {
    "id": "228XauGFWYmC"
   },
   "source": [
    "**h -** informações estatísticas das variáveis não numéricas."
   ]
  },
  {
   "cell_type": "code",
   "execution_count": 269,
   "metadata": {
    "id": "ncAE9hYFLXtM"
   },
   "outputs": [
    {
     "data": {
      "text/html": [
       "<div>\n",
       "<style scoped>\n",
       "    .dataframe tbody tr th:only-of-type {\n",
       "        vertical-align: middle;\n",
       "    }\n",
       "\n",
       "    .dataframe tbody tr th {\n",
       "        vertical-align: top;\n",
       "    }\n",
       "\n",
       "    .dataframe thead th {\n",
       "        text-align: right;\n",
       "    }\n",
       "</style>\n",
       "<table border=\"1\" class=\"dataframe\">\n",
       "  <thead>\n",
       "    <tr style=\"text-align: right;\">\n",
       "      <th></th>\n",
       "      <th>show_id</th>\n",
       "      <th>type</th>\n",
       "      <th>title</th>\n",
       "      <th>director</th>\n",
       "      <th>cast</th>\n",
       "      <th>country</th>\n",
       "      <th>date_added</th>\n",
       "      <th>rating</th>\n",
       "      <th>duration</th>\n",
       "      <th>listed_in</th>\n",
       "      <th>description</th>\n",
       "    </tr>\n",
       "  </thead>\n",
       "  <tbody>\n",
       "    <tr>\n",
       "      <th>count</th>\n",
       "      <td>8807</td>\n",
       "      <td>8807</td>\n",
       "      <td>8807</td>\n",
       "      <td>6173</td>\n",
       "      <td>7982</td>\n",
       "      <td>7976</td>\n",
       "      <td>8797</td>\n",
       "      <td>8803</td>\n",
       "      <td>8804</td>\n",
       "      <td>8807</td>\n",
       "      <td>8807</td>\n",
       "    </tr>\n",
       "    <tr>\n",
       "      <th>unique</th>\n",
       "      <td>8807</td>\n",
       "      <td>2</td>\n",
       "      <td>8807</td>\n",
       "      <td>4528</td>\n",
       "      <td>7692</td>\n",
       "      <td>748</td>\n",
       "      <td>1767</td>\n",
       "      <td>17</td>\n",
       "      <td>220</td>\n",
       "      <td>514</td>\n",
       "      <td>8775</td>\n",
       "    </tr>\n",
       "    <tr>\n",
       "      <th>top</th>\n",
       "      <td>s1</td>\n",
       "      <td>Movie</td>\n",
       "      <td>Dick Johnson Is Dead</td>\n",
       "      <td>Rajiv Chilaka</td>\n",
       "      <td>David Attenborough</td>\n",
       "      <td>United States</td>\n",
       "      <td>January 1, 2020</td>\n",
       "      <td>TV-MA</td>\n",
       "      <td>1 Season</td>\n",
       "      <td>Dramas, International Movies</td>\n",
       "      <td>Paranormal activity at a lush, abandoned prope...</td>\n",
       "    </tr>\n",
       "    <tr>\n",
       "      <th>freq</th>\n",
       "      <td>1</td>\n",
       "      <td>6131</td>\n",
       "      <td>1</td>\n",
       "      <td>19</td>\n",
       "      <td>19</td>\n",
       "      <td>2818</td>\n",
       "      <td>109</td>\n",
       "      <td>3207</td>\n",
       "      <td>1793</td>\n",
       "      <td>362</td>\n",
       "      <td>4</td>\n",
       "    </tr>\n",
       "  </tbody>\n",
       "</table>\n",
       "</div>"
      ],
      "text/plain": [
       "       show_id   type                 title       director  \\\n",
       "count     8807   8807                  8807           6173   \n",
       "unique    8807      2                  8807           4528   \n",
       "top         s1  Movie  Dick Johnson Is Dead  Rajiv Chilaka   \n",
       "freq         1   6131                     1             19   \n",
       "\n",
       "                      cast        country       date_added rating  duration  \\\n",
       "count                 7982           7976             8797   8803      8804   \n",
       "unique                7692            748             1767     17       220   \n",
       "top     David Attenborough  United States  January 1, 2020  TV-MA  1 Season   \n",
       "freq                    19           2818              109   3207      1793   \n",
       "\n",
       "                           listed_in  \\\n",
       "count                           8807   \n",
       "unique                           514   \n",
       "top     Dramas, International Movies   \n",
       "freq                             362   \n",
       "\n",
       "                                              description  \n",
       "count                                                8807  \n",
       "unique                                               8775  \n",
       "top     Paranormal activity at a lush, abandoned prope...  \n",
       "freq                                                    4  "
      ]
     },
     "execution_count": 269,
     "metadata": {},
     "output_type": "execute_result"
    }
   ],
   "source": [
    "netflix.describe(include = 'object')"
   ]
  },
  {
   "cell_type": "code",
   "execution_count": 270,
   "metadata": {},
   "outputs": [
    {
     "data": {
      "text/html": [
       "<div>\n",
       "<style scoped>\n",
       "    .dataframe tbody tr th:only-of-type {\n",
       "        vertical-align: middle;\n",
       "    }\n",
       "\n",
       "    .dataframe tbody tr th {\n",
       "        vertical-align: top;\n",
       "    }\n",
       "\n",
       "    .dataframe thead th {\n",
       "        text-align: right;\n",
       "    }\n",
       "</style>\n",
       "<table border=\"1\" class=\"dataframe\">\n",
       "  <thead>\n",
       "    <tr style=\"text-align: right;\">\n",
       "      <th></th>\n",
       "      <th>show_id</th>\n",
       "      <th>type</th>\n",
       "      <th>title</th>\n",
       "      <th>director</th>\n",
       "      <th>cast</th>\n",
       "      <th>country</th>\n",
       "      <th>date_added</th>\n",
       "      <th>rating</th>\n",
       "      <th>duration</th>\n",
       "      <th>listed_in</th>\n",
       "      <th>description</th>\n",
       "    </tr>\n",
       "  </thead>\n",
       "  <tbody>\n",
       "    <tr>\n",
       "      <th>count</th>\n",
       "      <td>8807</td>\n",
       "      <td>8807</td>\n",
       "      <td>8807</td>\n",
       "      <td>6173</td>\n",
       "      <td>7982</td>\n",
       "      <td>7976</td>\n",
       "      <td>8797</td>\n",
       "      <td>8803</td>\n",
       "      <td>8804</td>\n",
       "      <td>8807</td>\n",
       "      <td>8807</td>\n",
       "    </tr>\n",
       "    <tr>\n",
       "      <th>unique</th>\n",
       "      <td>8807</td>\n",
       "      <td>2</td>\n",
       "      <td>8807</td>\n",
       "      <td>4528</td>\n",
       "      <td>7692</td>\n",
       "      <td>748</td>\n",
       "      <td>1767</td>\n",
       "      <td>17</td>\n",
       "      <td>220</td>\n",
       "      <td>514</td>\n",
       "      <td>8775</td>\n",
       "    </tr>\n",
       "    <tr>\n",
       "      <th>top</th>\n",
       "      <td>s1</td>\n",
       "      <td>Movie</td>\n",
       "      <td>Dick Johnson Is Dead</td>\n",
       "      <td>Rajiv Chilaka</td>\n",
       "      <td>David Attenborough</td>\n",
       "      <td>United States</td>\n",
       "      <td>January 1, 2020</td>\n",
       "      <td>TV-MA</td>\n",
       "      <td>1 Season</td>\n",
       "      <td>Dramas, International Movies</td>\n",
       "      <td>Paranormal activity at a lush, abandoned prope...</td>\n",
       "    </tr>\n",
       "    <tr>\n",
       "      <th>freq</th>\n",
       "      <td>1</td>\n",
       "      <td>6131</td>\n",
       "      <td>1</td>\n",
       "      <td>19</td>\n",
       "      <td>19</td>\n",
       "      <td>2818</td>\n",
       "      <td>109</td>\n",
       "      <td>3207</td>\n",
       "      <td>1793</td>\n",
       "      <td>362</td>\n",
       "      <td>4</td>\n",
       "    </tr>\n",
       "  </tbody>\n",
       "</table>\n",
       "</div>"
      ],
      "text/plain": [
       "       show_id   type                 title       director  \\\n",
       "count     8807   8807                  8807           6173   \n",
       "unique    8807      2                  8807           4528   \n",
       "top         s1  Movie  Dick Johnson Is Dead  Rajiv Chilaka   \n",
       "freq         1   6131                     1             19   \n",
       "\n",
       "                      cast        country       date_added rating  duration  \\\n",
       "count                 7982           7976             8797   8803      8804   \n",
       "unique                7692            748             1767     17       220   \n",
       "top     David Attenborough  United States  January 1, 2020  TV-MA  1 Season   \n",
       "freq                    19           2818              109   3207      1793   \n",
       "\n",
       "                           listed_in  \\\n",
       "count                           8807   \n",
       "unique                           514   \n",
       "top     Dramas, International Movies   \n",
       "freq                             362   \n",
       "\n",
       "                                              description  \n",
       "count                                                8807  \n",
       "unique                                               8775  \n",
       "top     Paranormal activity at a lush, abandoned prope...  \n",
       "freq                                                    4  "
      ]
     },
     "execution_count": 270,
     "metadata": {},
     "output_type": "execute_result"
    }
   ],
   "source": [
    "netflix.describe(exclude = 'int64')"
   ]
  },
  {
   "cell_type": "markdown",
   "metadata": {
    "id": "2LLAR_AwWkak"
   },
   "source": [
    "**i -** verificar o top 10 valores mais comuns das colunas director, listed_in, country, release_year. Em seguida, responder as perguntas abaixo:\n",
    "1.   qual diretor tem mais filmes e séries listadas?\n",
    "2.   qual país é o segundo com mais filmes e séries listadas?\n",
    "3.   qual ano tem mais filmes e séries listadas?\n"
   ]
  },
  {
   "cell_type": "code",
   "execution_count": 271,
   "metadata": {
    "id": "CQ8ZvtQfMDLR"
   },
   "outputs": [
    {
     "data": {
      "text/plain": [
       "Rajiv Chilaka             19\n",
       "Raúl Campos, Jan Suter    18\n",
       "Marcus Raboy              16\n",
       "Suhas Kadav               16\n",
       "Jay Karas                 14\n",
       "Cathy Garcia-Molina       13\n",
       "Martin Scorsese           12\n",
       "Youssef Chahine           12\n",
       "Jay Chapman               12\n",
       "Steven Spielberg          11\n",
       "Name: director, dtype: int64"
      ]
     },
     "execution_count": 271,
     "metadata": {},
     "output_type": "execute_result"
    }
   ],
   "source": [
    "netflix['director'].value_counts().head(10)"
   ]
  },
  {
   "cell_type": "markdown",
   "metadata": {},
   "source": [
    "1. Qual diretor tem mais filmes e séries listadas?"
   ]
  },
  {
   "cell_type": "code",
   "execution_count": 272,
   "metadata": {},
   "outputs": [
    {
     "data": {
      "text/plain": [
       "Rajiv Chilaka    19\n",
       "Name: director, dtype: int64"
      ]
     },
     "execution_count": 272,
     "metadata": {},
     "output_type": "execute_result"
    }
   ],
   "source": [
    "netflix['director'].value_counts().head(1)"
   ]
  },
  {
   "cell_type": "markdown",
   "metadata": {},
   "source": [
    "2 - Qual país é o segundo com mais filmes e séries listadas?"
   ]
  },
  {
   "cell_type": "code",
   "execution_count": 273,
   "metadata": {},
   "outputs": [
    {
     "data": {
      "text/plain": [
       "'India'"
      ]
     },
     "execution_count": 273,
     "metadata": {},
     "output_type": "execute_result"
    }
   ],
   "source": [
    "net = netflix['country'].value_counts()\n",
    "net.index[1]"
   ]
  },
  {
   "cell_type": "markdown",
   "metadata": {},
   "source": [
    "3 -  Qual ano tem mais filmes e séries listadas?"
   ]
  },
  {
   "cell_type": "code",
   "execution_count": 274,
   "metadata": {},
   "outputs": [
    {
     "data": {
      "text/plain": [
       "January 1, 2020    109\n",
       "Name: date_added, dtype: int64"
      ]
     },
     "execution_count": 274,
     "metadata": {},
     "output_type": "execute_result"
    }
   ],
   "source": [
    "netflix['date_added'].value_counts().head(1)"
   ]
  },
  {
   "cell_type": "markdown",
   "metadata": {
    "id": "LWSryTLlXlHC"
   },
   "source": [
    "**j -** verificar a soma e o percentual dos dados nulos e não nulos."
   ]
  },
  {
   "cell_type": "code",
   "execution_count": 275,
   "metadata": {
    "id": "-c4ElLm-M2ia"
   },
   "outputs": [
    {
     "data": {
      "text/plain": [
       "show_id            0\n",
       "type               0\n",
       "title              0\n",
       "director        2634\n",
       "cast             825\n",
       "country          831\n",
       "date_added        10\n",
       "release_year       0\n",
       "rating             4\n",
       "duration           3\n",
       "listed_in          0\n",
       "description        0\n",
       "dtype: int64"
      ]
     },
     "execution_count": 275,
     "metadata": {},
     "output_type": "execute_result"
    }
   ],
   "source": [
    "netflix.isnull().sum()"
   ]
  },
  {
   "cell_type": "code",
   "execution_count": 276,
   "metadata": {},
   "outputs": [
    {
     "data": {
      "text/plain": [
       "show_id          0.00\n",
       "type             0.00\n",
       "title            0.00\n",
       "director        29.91\n",
       "cast             9.37\n",
       "country          9.44\n",
       "date_added       0.11\n",
       "release_year     0.00\n",
       "rating           0.05\n",
       "duration         0.03\n",
       "listed_in        0.00\n",
       "description      0.00\n",
       "dtype: float64"
      ]
     },
     "execution_count": 276,
     "metadata": {},
     "output_type": "execute_result"
    }
   ],
   "source": [
    "round(netflix.isnull().sum()/netflix.shape[0]*100,2)"
   ]
  },
  {
   "cell_type": "code",
   "execution_count": 277,
   "metadata": {},
   "outputs": [
    {
     "data": {
      "text/plain": [
       "show_id         8807\n",
       "type            8807\n",
       "title           8807\n",
       "director        6173\n",
       "cast            7982\n",
       "country         7976\n",
       "date_added      8797\n",
       "release_year    8807\n",
       "rating          8803\n",
       "duration        8804\n",
       "listed_in       8807\n",
       "description     8807\n",
       "dtype: int64"
      ]
     },
     "execution_count": 277,
     "metadata": {},
     "output_type": "execute_result"
    }
   ],
   "source": [
    "netflix.notnull().sum()"
   ]
  },
  {
   "cell_type": "code",
   "execution_count": 278,
   "metadata": {},
   "outputs": [
    {
     "data": {
      "text/plain": [
       "show_id         100.00\n",
       "type            100.00\n",
       "title           100.00\n",
       "director         70.09\n",
       "cast             90.63\n",
       "country          90.56\n",
       "date_added       99.89\n",
       "release_year    100.00\n",
       "rating           99.95\n",
       "duration         99.97\n",
       "listed_in       100.00\n",
       "description     100.00\n",
       "dtype: float64"
      ]
     },
     "execution_count": 278,
     "metadata": {},
     "output_type": "execute_result"
    }
   ],
   "source": [
    "round(netflix.notna().sum()/netflix.shape[0]*100,2)"
   ]
  },
  {
   "cell_type": "markdown",
   "metadata": {
    "id": "t1uKgsyCXzEo"
   },
   "source": [
    "**l -** substituir os valores nulos das colunas director e country pela string NA."
   ]
  },
  {
   "cell_type": "code",
   "execution_count": 279,
   "metadata": {
    "id": "MPpjNiDgM2ej"
   },
   "outputs": [
    {
     "data": {
      "text/html": [
       "<div>\n",
       "<style scoped>\n",
       "    .dataframe tbody tr th:only-of-type {\n",
       "        vertical-align: middle;\n",
       "    }\n",
       "\n",
       "    .dataframe tbody tr th {\n",
       "        vertical-align: top;\n",
       "    }\n",
       "\n",
       "    .dataframe thead th {\n",
       "        text-align: right;\n",
       "    }\n",
       "</style>\n",
       "<table border=\"1\" class=\"dataframe\">\n",
       "  <thead>\n",
       "    <tr style=\"text-align: right;\">\n",
       "      <th></th>\n",
       "      <th>show_id</th>\n",
       "      <th>type</th>\n",
       "      <th>title</th>\n",
       "      <th>director</th>\n",
       "      <th>cast</th>\n",
       "      <th>country</th>\n",
       "      <th>date_added</th>\n",
       "      <th>release_year</th>\n",
       "      <th>rating</th>\n",
       "      <th>duration</th>\n",
       "      <th>listed_in</th>\n",
       "      <th>description</th>\n",
       "    </tr>\n",
       "  </thead>\n",
       "  <tbody>\n",
       "    <tr>\n",
       "      <th>0</th>\n",
       "      <td>s1</td>\n",
       "      <td>Movie</td>\n",
       "      <td>Dick Johnson Is Dead</td>\n",
       "      <td>Kirsten Johnson</td>\n",
       "      <td>NaN</td>\n",
       "      <td>United States</td>\n",
       "      <td>September 25, 2021</td>\n",
       "      <td>2020</td>\n",
       "      <td>PG-13</td>\n",
       "      <td>90 min</td>\n",
       "      <td>Documentaries</td>\n",
       "      <td>As her father nears the end of his life, filmm...</td>\n",
       "    </tr>\n",
       "    <tr>\n",
       "      <th>1</th>\n",
       "      <td>s2</td>\n",
       "      <td>TV Show</td>\n",
       "      <td>Blood &amp; Water</td>\n",
       "      <td>NA</td>\n",
       "      <td>Ama Qamata, Khosi Ngema, Gail Mabalane, Thaban...</td>\n",
       "      <td>South Africa</td>\n",
       "      <td>September 24, 2021</td>\n",
       "      <td>2021</td>\n",
       "      <td>TV-MA</td>\n",
       "      <td>2 Seasons</td>\n",
       "      <td>International TV Shows, TV Dramas, TV Mysteries</td>\n",
       "      <td>After crossing paths at a party, a Cape Town t...</td>\n",
       "    </tr>\n",
       "    <tr>\n",
       "      <th>2</th>\n",
       "      <td>s3</td>\n",
       "      <td>TV Show</td>\n",
       "      <td>Ganglands</td>\n",
       "      <td>Julien Leclercq</td>\n",
       "      <td>Sami Bouajila, Tracy Gotoas, Samuel Jouy, Nabi...</td>\n",
       "      <td>NA</td>\n",
       "      <td>September 24, 2021</td>\n",
       "      <td>2021</td>\n",
       "      <td>TV-MA</td>\n",
       "      <td>1 Season</td>\n",
       "      <td>Crime TV Shows, International TV Shows, TV Act...</td>\n",
       "      <td>To protect his family from a powerful drug lor...</td>\n",
       "    </tr>\n",
       "    <tr>\n",
       "      <th>3</th>\n",
       "      <td>s4</td>\n",
       "      <td>TV Show</td>\n",
       "      <td>Jailbirds New Orleans</td>\n",
       "      <td>NA</td>\n",
       "      <td>NaN</td>\n",
       "      <td>NA</td>\n",
       "      <td>September 24, 2021</td>\n",
       "      <td>2021</td>\n",
       "      <td>TV-MA</td>\n",
       "      <td>1 Season</td>\n",
       "      <td>Docuseries, Reality TV</td>\n",
       "      <td>Feuds, flirtations and toilet talk go down amo...</td>\n",
       "    </tr>\n",
       "    <tr>\n",
       "      <th>4</th>\n",
       "      <td>s5</td>\n",
       "      <td>TV Show</td>\n",
       "      <td>Kota Factory</td>\n",
       "      <td>NA</td>\n",
       "      <td>Mayur More, Jitendra Kumar, Ranjan Raj, Alam K...</td>\n",
       "      <td>India</td>\n",
       "      <td>September 24, 2021</td>\n",
       "      <td>2021</td>\n",
       "      <td>TV-MA</td>\n",
       "      <td>2 Seasons</td>\n",
       "      <td>International TV Shows, Romantic TV Shows, TV ...</td>\n",
       "      <td>In a city of coaching centers known to train I...</td>\n",
       "    </tr>\n",
       "  </tbody>\n",
       "</table>\n",
       "</div>"
      ],
      "text/plain": [
       "  show_id     type                  title         director  \\\n",
       "0      s1    Movie   Dick Johnson Is Dead  Kirsten Johnson   \n",
       "1      s2  TV Show          Blood & Water               NA   \n",
       "2      s3  TV Show              Ganglands  Julien Leclercq   \n",
       "3      s4  TV Show  Jailbirds New Orleans               NA   \n",
       "4      s5  TV Show           Kota Factory               NA   \n",
       "\n",
       "                                                cast        country  \\\n",
       "0                                                NaN  United States   \n",
       "1  Ama Qamata, Khosi Ngema, Gail Mabalane, Thaban...   South Africa   \n",
       "2  Sami Bouajila, Tracy Gotoas, Samuel Jouy, Nabi...             NA   \n",
       "3                                                NaN             NA   \n",
       "4  Mayur More, Jitendra Kumar, Ranjan Raj, Alam K...          India   \n",
       "\n",
       "           date_added  release_year rating   duration  \\\n",
       "0  September 25, 2021          2020  PG-13     90 min   \n",
       "1  September 24, 2021          2021  TV-MA  2 Seasons   \n",
       "2  September 24, 2021          2021  TV-MA   1 Season   \n",
       "3  September 24, 2021          2021  TV-MA   1 Season   \n",
       "4  September 24, 2021          2021  TV-MA  2 Seasons   \n",
       "\n",
       "                                           listed_in  \\\n",
       "0                                      Documentaries   \n",
       "1    International TV Shows, TV Dramas, TV Mysteries   \n",
       "2  Crime TV Shows, International TV Shows, TV Act...   \n",
       "3                             Docuseries, Reality TV   \n",
       "4  International TV Shows, Romantic TV Shows, TV ...   \n",
       "\n",
       "                                         description  \n",
       "0  As her father nears the end of his life, filmm...  \n",
       "1  After crossing paths at a party, a Cape Town t...  \n",
       "2  To protect his family from a powerful drug lor...  \n",
       "3  Feuds, flirtations and toilet talk go down amo...  \n",
       "4  In a city of coaching centers known to train I...  "
      ]
     },
     "execution_count": 279,
     "metadata": {},
     "output_type": "execute_result"
    }
   ],
   "source": [
    "netflix.fillna({'director': 'NA', 'country': 'NA'}, inplace = True)\n",
    "netflix.head(5)"
   ]
  },
  {
   "cell_type": "markdown",
   "metadata": {
    "id": "7fOoHLvTX_yJ"
   },
   "source": [
    "**m -** deletar do dataframe as colunas cast,rating e description."
   ]
  },
  {
   "cell_type": "code",
   "execution_count": 280,
   "metadata": {
    "id": "GRAn6qRwM2Xw"
   },
   "outputs": [
    {
     "data": {
      "text/html": [
       "<div>\n",
       "<style scoped>\n",
       "    .dataframe tbody tr th:only-of-type {\n",
       "        vertical-align: middle;\n",
       "    }\n",
       "\n",
       "    .dataframe tbody tr th {\n",
       "        vertical-align: top;\n",
       "    }\n",
       "\n",
       "    .dataframe thead th {\n",
       "        text-align: right;\n",
       "    }\n",
       "</style>\n",
       "<table border=\"1\" class=\"dataframe\">\n",
       "  <thead>\n",
       "    <tr style=\"text-align: right;\">\n",
       "      <th></th>\n",
       "      <th>show_id</th>\n",
       "      <th>type</th>\n",
       "      <th>title</th>\n",
       "      <th>director</th>\n",
       "      <th>country</th>\n",
       "      <th>date_added</th>\n",
       "      <th>release_year</th>\n",
       "      <th>duration</th>\n",
       "      <th>listed_in</th>\n",
       "    </tr>\n",
       "  </thead>\n",
       "  <tbody>\n",
       "    <tr>\n",
       "      <th>0</th>\n",
       "      <td>s1</td>\n",
       "      <td>Movie</td>\n",
       "      <td>Dick Johnson Is Dead</td>\n",
       "      <td>Kirsten Johnson</td>\n",
       "      <td>United States</td>\n",
       "      <td>September 25, 2021</td>\n",
       "      <td>2020</td>\n",
       "      <td>90 min</td>\n",
       "      <td>Documentaries</td>\n",
       "    </tr>\n",
       "    <tr>\n",
       "      <th>1</th>\n",
       "      <td>s2</td>\n",
       "      <td>TV Show</td>\n",
       "      <td>Blood &amp; Water</td>\n",
       "      <td>NA</td>\n",
       "      <td>South Africa</td>\n",
       "      <td>September 24, 2021</td>\n",
       "      <td>2021</td>\n",
       "      <td>2 Seasons</td>\n",
       "      <td>International TV Shows, TV Dramas, TV Mysteries</td>\n",
       "    </tr>\n",
       "    <tr>\n",
       "      <th>2</th>\n",
       "      <td>s3</td>\n",
       "      <td>TV Show</td>\n",
       "      <td>Ganglands</td>\n",
       "      <td>Julien Leclercq</td>\n",
       "      <td>NA</td>\n",
       "      <td>September 24, 2021</td>\n",
       "      <td>2021</td>\n",
       "      <td>1 Season</td>\n",
       "      <td>Crime TV Shows, International TV Shows, TV Act...</td>\n",
       "    </tr>\n",
       "    <tr>\n",
       "      <th>3</th>\n",
       "      <td>s4</td>\n",
       "      <td>TV Show</td>\n",
       "      <td>Jailbirds New Orleans</td>\n",
       "      <td>NA</td>\n",
       "      <td>NA</td>\n",
       "      <td>September 24, 2021</td>\n",
       "      <td>2021</td>\n",
       "      <td>1 Season</td>\n",
       "      <td>Docuseries, Reality TV</td>\n",
       "    </tr>\n",
       "    <tr>\n",
       "      <th>4</th>\n",
       "      <td>s5</td>\n",
       "      <td>TV Show</td>\n",
       "      <td>Kota Factory</td>\n",
       "      <td>NA</td>\n",
       "      <td>India</td>\n",
       "      <td>September 24, 2021</td>\n",
       "      <td>2021</td>\n",
       "      <td>2 Seasons</td>\n",
       "      <td>International TV Shows, Romantic TV Shows, TV ...</td>\n",
       "    </tr>\n",
       "    <tr>\n",
       "      <th>...</th>\n",
       "      <td>...</td>\n",
       "      <td>...</td>\n",
       "      <td>...</td>\n",
       "      <td>...</td>\n",
       "      <td>...</td>\n",
       "      <td>...</td>\n",
       "      <td>...</td>\n",
       "      <td>...</td>\n",
       "      <td>...</td>\n",
       "    </tr>\n",
       "    <tr>\n",
       "      <th>8802</th>\n",
       "      <td>s8803</td>\n",
       "      <td>Movie</td>\n",
       "      <td>Zodiac</td>\n",
       "      <td>David Fincher</td>\n",
       "      <td>United States</td>\n",
       "      <td>November 20, 2019</td>\n",
       "      <td>2007</td>\n",
       "      <td>158 min</td>\n",
       "      <td>Cult Movies, Dramas, Thrillers</td>\n",
       "    </tr>\n",
       "    <tr>\n",
       "      <th>8803</th>\n",
       "      <td>s8804</td>\n",
       "      <td>TV Show</td>\n",
       "      <td>Zombie Dumb</td>\n",
       "      <td>NA</td>\n",
       "      <td>NA</td>\n",
       "      <td>July 1, 2019</td>\n",
       "      <td>2018</td>\n",
       "      <td>2 Seasons</td>\n",
       "      <td>Kids' TV, Korean TV Shows, TV Comedies</td>\n",
       "    </tr>\n",
       "    <tr>\n",
       "      <th>8804</th>\n",
       "      <td>s8805</td>\n",
       "      <td>Movie</td>\n",
       "      <td>Zombieland</td>\n",
       "      <td>Ruben Fleischer</td>\n",
       "      <td>United States</td>\n",
       "      <td>November 1, 2019</td>\n",
       "      <td>2009</td>\n",
       "      <td>88 min</td>\n",
       "      <td>Comedies, Horror Movies</td>\n",
       "    </tr>\n",
       "    <tr>\n",
       "      <th>8805</th>\n",
       "      <td>s8806</td>\n",
       "      <td>Movie</td>\n",
       "      <td>Zoom</td>\n",
       "      <td>Peter Hewitt</td>\n",
       "      <td>United States</td>\n",
       "      <td>January 11, 2020</td>\n",
       "      <td>2006</td>\n",
       "      <td>88 min</td>\n",
       "      <td>Children &amp; Family Movies, Comedies</td>\n",
       "    </tr>\n",
       "    <tr>\n",
       "      <th>8806</th>\n",
       "      <td>s8807</td>\n",
       "      <td>Movie</td>\n",
       "      <td>Zubaan</td>\n",
       "      <td>Mozez Singh</td>\n",
       "      <td>India</td>\n",
       "      <td>March 2, 2019</td>\n",
       "      <td>2015</td>\n",
       "      <td>111 min</td>\n",
       "      <td>Dramas, International Movies, Music &amp; Musicals</td>\n",
       "    </tr>\n",
       "  </tbody>\n",
       "</table>\n",
       "<p>8807 rows × 9 columns</p>\n",
       "</div>"
      ],
      "text/plain": [
       "     show_id     type                  title         director        country  \\\n",
       "0         s1    Movie   Dick Johnson Is Dead  Kirsten Johnson  United States   \n",
       "1         s2  TV Show          Blood & Water               NA   South Africa   \n",
       "2         s3  TV Show              Ganglands  Julien Leclercq             NA   \n",
       "3         s4  TV Show  Jailbirds New Orleans               NA             NA   \n",
       "4         s5  TV Show           Kota Factory               NA          India   \n",
       "...      ...      ...                    ...              ...            ...   \n",
       "8802   s8803    Movie                 Zodiac    David Fincher  United States   \n",
       "8803   s8804  TV Show            Zombie Dumb               NA             NA   \n",
       "8804   s8805    Movie             Zombieland  Ruben Fleischer  United States   \n",
       "8805   s8806    Movie                   Zoom     Peter Hewitt  United States   \n",
       "8806   s8807    Movie                 Zubaan      Mozez Singh          India   \n",
       "\n",
       "              date_added  release_year   duration  \\\n",
       "0     September 25, 2021          2020     90 min   \n",
       "1     September 24, 2021          2021  2 Seasons   \n",
       "2     September 24, 2021          2021   1 Season   \n",
       "3     September 24, 2021          2021   1 Season   \n",
       "4     September 24, 2021          2021  2 Seasons   \n",
       "...                  ...           ...        ...   \n",
       "8802   November 20, 2019          2007    158 min   \n",
       "8803        July 1, 2019          2018  2 Seasons   \n",
       "8804    November 1, 2019          2009     88 min   \n",
       "8805    January 11, 2020          2006     88 min   \n",
       "8806       March 2, 2019          2015    111 min   \n",
       "\n",
       "                                              listed_in  \n",
       "0                                         Documentaries  \n",
       "1       International TV Shows, TV Dramas, TV Mysteries  \n",
       "2     Crime TV Shows, International TV Shows, TV Act...  \n",
       "3                                Docuseries, Reality TV  \n",
       "4     International TV Shows, Romantic TV Shows, TV ...  \n",
       "...                                                 ...  \n",
       "8802                     Cult Movies, Dramas, Thrillers  \n",
       "8803             Kids' TV, Korean TV Shows, TV Comedies  \n",
       "8804                            Comedies, Horror Movies  \n",
       "8805                 Children & Family Movies, Comedies  \n",
       "8806     Dramas, International Movies, Music & Musicals  \n",
       "\n",
       "[8807 rows x 9 columns]"
      ]
     },
     "execution_count": 280,
     "metadata": {},
     "output_type": "execute_result"
    }
   ],
   "source": [
    "netflix.drop(columns = ['cast','rating','description'],  inplace = True)\n",
    "netflix"
   ]
  },
  {
   "cell_type": "markdown",
   "metadata": {
    "id": "VpWk18hSYOD4"
   },
   "source": [
    "**n -** deletar os registros com dados nulos na base de dados."
   ]
  },
  {
   "cell_type": "code",
   "execution_count": 281,
   "metadata": {
    "id": "R1coSW7YRS-p"
   },
   "outputs": [],
   "source": [
    "netflix.dropna(inplace = True)"
   ]
  },
  {
   "cell_type": "code",
   "execution_count": 282,
   "metadata": {
    "id": "AAes1PleYkYq"
   },
   "outputs": [
    {
     "data": {
      "text/html": [
       "<div>\n",
       "<style scoped>\n",
       "    .dataframe tbody tr th:only-of-type {\n",
       "        vertical-align: middle;\n",
       "    }\n",
       "\n",
       "    .dataframe tbody tr th {\n",
       "        vertical-align: top;\n",
       "    }\n",
       "\n",
       "    .dataframe thead th {\n",
       "        text-align: right;\n",
       "    }\n",
       "</style>\n",
       "<table border=\"1\" class=\"dataframe\">\n",
       "  <thead>\n",
       "    <tr style=\"text-align: right;\">\n",
       "      <th></th>\n",
       "      <th>show_id</th>\n",
       "      <th>type</th>\n",
       "      <th>title</th>\n",
       "      <th>director</th>\n",
       "      <th>country</th>\n",
       "      <th>date_added</th>\n",
       "      <th>release_year</th>\n",
       "      <th>duration</th>\n",
       "      <th>listed_in</th>\n",
       "    </tr>\n",
       "  </thead>\n",
       "  <tbody>\n",
       "    <tr>\n",
       "      <th>0</th>\n",
       "      <td>s1</td>\n",
       "      <td>Movie</td>\n",
       "      <td>Dick Johnson Is Dead</td>\n",
       "      <td>Kirsten Johnson</td>\n",
       "      <td>United States</td>\n",
       "      <td>September 25, 2021</td>\n",
       "      <td>2020</td>\n",
       "      <td>90 min</td>\n",
       "      <td>Documentaries</td>\n",
       "    </tr>\n",
       "    <tr>\n",
       "      <th>1</th>\n",
       "      <td>s2</td>\n",
       "      <td>TV Show</td>\n",
       "      <td>Blood &amp; Water</td>\n",
       "      <td>NA</td>\n",
       "      <td>South Africa</td>\n",
       "      <td>September 24, 2021</td>\n",
       "      <td>2021</td>\n",
       "      <td>2 Seasons</td>\n",
       "      <td>International TV Shows, TV Dramas, TV Mysteries</td>\n",
       "    </tr>\n",
       "    <tr>\n",
       "      <th>2</th>\n",
       "      <td>s3</td>\n",
       "      <td>TV Show</td>\n",
       "      <td>Ganglands</td>\n",
       "      <td>Julien Leclercq</td>\n",
       "      <td>NA</td>\n",
       "      <td>September 24, 2021</td>\n",
       "      <td>2021</td>\n",
       "      <td>1 Season</td>\n",
       "      <td>Crime TV Shows, International TV Shows, TV Act...</td>\n",
       "    </tr>\n",
       "    <tr>\n",
       "      <th>3</th>\n",
       "      <td>s4</td>\n",
       "      <td>TV Show</td>\n",
       "      <td>Jailbirds New Orleans</td>\n",
       "      <td>NA</td>\n",
       "      <td>NA</td>\n",
       "      <td>September 24, 2021</td>\n",
       "      <td>2021</td>\n",
       "      <td>1 Season</td>\n",
       "      <td>Docuseries, Reality TV</td>\n",
       "    </tr>\n",
       "    <tr>\n",
       "      <th>4</th>\n",
       "      <td>s5</td>\n",
       "      <td>TV Show</td>\n",
       "      <td>Kota Factory</td>\n",
       "      <td>NA</td>\n",
       "      <td>India</td>\n",
       "      <td>September 24, 2021</td>\n",
       "      <td>2021</td>\n",
       "      <td>2 Seasons</td>\n",
       "      <td>International TV Shows, Romantic TV Shows, TV ...</td>\n",
       "    </tr>\n",
       "  </tbody>\n",
       "</table>\n",
       "</div>"
      ],
      "text/plain": [
       "  show_id     type                  title         director        country  \\\n",
       "0      s1    Movie   Dick Johnson Is Dead  Kirsten Johnson  United States   \n",
       "1      s2  TV Show          Blood & Water               NA   South Africa   \n",
       "2      s3  TV Show              Ganglands  Julien Leclercq             NA   \n",
       "3      s4  TV Show  Jailbirds New Orleans               NA             NA   \n",
       "4      s5  TV Show           Kota Factory               NA          India   \n",
       "\n",
       "           date_added  release_year   duration  \\\n",
       "0  September 25, 2021          2020     90 min   \n",
       "1  September 24, 2021          2021  2 Seasons   \n",
       "2  September 24, 2021          2021   1 Season   \n",
       "3  September 24, 2021          2021   1 Season   \n",
       "4  September 24, 2021          2021  2 Seasons   \n",
       "\n",
       "                                           listed_in  \n",
       "0                                      Documentaries  \n",
       "1    International TV Shows, TV Dramas, TV Mysteries  \n",
       "2  Crime TV Shows, International TV Shows, TV Act...  \n",
       "3                             Docuseries, Reality TV  \n",
       "4  International TV Shows, Romantic TV Shows, TV ...  "
      ]
     },
     "execution_count": 282,
     "metadata": {},
     "output_type": "execute_result"
    }
   ],
   "source": [
    "netflix.head(5)"
   ]
  },
  {
   "cell_type": "markdown",
   "metadata": {
    "id": "6_r-il4-Ybni"
   },
   "source": [
    "**o -** verificar se a base de dados ficou com 8794 linhas e 9 colunas."
   ]
  },
  {
   "cell_type": "code",
   "execution_count": 283,
   "metadata": {},
   "outputs": [
    {
     "data": {
      "text/plain": [
       "(8794, 9)"
      ]
     },
     "execution_count": 283,
     "metadata": {},
     "output_type": "execute_result"
    }
   ],
   "source": [
    "netflix.shape"
   ]
  },
  {
   "cell_type": "markdown",
   "metadata": {
    "id": "QbiIlnkgY1aT"
   },
   "source": [
    "**p -** converter a coluna date_added para o tipo de dados datetime."
   ]
  },
  {
   "cell_type": "code",
   "execution_count": 284,
   "metadata": {
    "id": "lSINNB5_QUwX"
   },
   "outputs": [],
   "source": [
    "netflix['date_added'] = pd.to_datetime(netflix['date_added'])"
   ]
  },
  {
   "cell_type": "code",
   "execution_count": 285,
   "metadata": {
    "id": "Al6MD85TQzmU"
   },
   "outputs": [
    {
     "data": {
      "text/html": [
       "<div>\n",
       "<style scoped>\n",
       "    .dataframe tbody tr th:only-of-type {\n",
       "        vertical-align: middle;\n",
       "    }\n",
       "\n",
       "    .dataframe tbody tr th {\n",
       "        vertical-align: top;\n",
       "    }\n",
       "\n",
       "    .dataframe thead th {\n",
       "        text-align: right;\n",
       "    }\n",
       "</style>\n",
       "<table border=\"1\" class=\"dataframe\">\n",
       "  <thead>\n",
       "    <tr style=\"text-align: right;\">\n",
       "      <th></th>\n",
       "      <th>show_id</th>\n",
       "      <th>type</th>\n",
       "      <th>title</th>\n",
       "      <th>director</th>\n",
       "      <th>country</th>\n",
       "      <th>date_added</th>\n",
       "      <th>release_year</th>\n",
       "      <th>duration</th>\n",
       "      <th>listed_in</th>\n",
       "    </tr>\n",
       "  </thead>\n",
       "  <tbody>\n",
       "    <tr>\n",
       "      <th>0</th>\n",
       "      <td>s1</td>\n",
       "      <td>Movie</td>\n",
       "      <td>Dick Johnson Is Dead</td>\n",
       "      <td>Kirsten Johnson</td>\n",
       "      <td>United States</td>\n",
       "      <td>2021-09-25</td>\n",
       "      <td>2020</td>\n",
       "      <td>90 min</td>\n",
       "      <td>Documentaries</td>\n",
       "    </tr>\n",
       "    <tr>\n",
       "      <th>1</th>\n",
       "      <td>s2</td>\n",
       "      <td>TV Show</td>\n",
       "      <td>Blood &amp; Water</td>\n",
       "      <td>NA</td>\n",
       "      <td>South Africa</td>\n",
       "      <td>2021-09-24</td>\n",
       "      <td>2021</td>\n",
       "      <td>2 Seasons</td>\n",
       "      <td>International TV Shows, TV Dramas, TV Mysteries</td>\n",
       "    </tr>\n",
       "    <tr>\n",
       "      <th>2</th>\n",
       "      <td>s3</td>\n",
       "      <td>TV Show</td>\n",
       "      <td>Ganglands</td>\n",
       "      <td>Julien Leclercq</td>\n",
       "      <td>NA</td>\n",
       "      <td>2021-09-24</td>\n",
       "      <td>2021</td>\n",
       "      <td>1 Season</td>\n",
       "      <td>Crime TV Shows, International TV Shows, TV Act...</td>\n",
       "    </tr>\n",
       "  </tbody>\n",
       "</table>\n",
       "</div>"
      ],
      "text/plain": [
       "  show_id     type                 title         director        country  \\\n",
       "0      s1    Movie  Dick Johnson Is Dead  Kirsten Johnson  United States   \n",
       "1      s2  TV Show         Blood & Water               NA   South Africa   \n",
       "2      s3  TV Show             Ganglands  Julien Leclercq             NA   \n",
       "\n",
       "  date_added  release_year   duration  \\\n",
       "0 2021-09-25          2020     90 min   \n",
       "1 2021-09-24          2021  2 Seasons   \n",
       "2 2021-09-24          2021   1 Season   \n",
       "\n",
       "                                           listed_in  \n",
       "0                                      Documentaries  \n",
       "1    International TV Shows, TV Dramas, TV Mysteries  \n",
       "2  Crime TV Shows, International TV Shows, TV Act...  "
      ]
     },
     "execution_count": 285,
     "metadata": {},
     "output_type": "execute_result"
    }
   ],
   "source": [
    "netflix.head(3)"
   ]
  },
  {
   "cell_type": "markdown",
   "metadata": {
    "id": "E0OeDgeUY-Rp"
   },
   "source": [
    "**q -** criar 3 colunas baseadas na date_added:\n",
    "1.   o dia da data\n",
    "2.   o mês da data\n",
    "3.   o ano da data\n",
    "\n"
   ]
  },
  {
   "cell_type": "code",
   "execution_count": 286,
   "metadata": {
    "id": "E6hT088YQ_yd"
   },
   "outputs": [],
   "source": [
    "netflix['dias'] = netflix['date_added'].dt.day\n",
    "netflix['mês '] = netflix['date_added'].dt.month\n",
    "netflix['ano'] = netflix['date_added'].dt.year"
   ]
  },
  {
   "cell_type": "markdown",
   "metadata": {
    "id": "Un_udu9iZYU1"
   },
   "source": [
    "**r -** verificar o top 5 mais registros da coluna dia, mês e ano da date_added, em seguida responder as perguntas abaixo:\n",
    "1.   Qual o dia com mais filmes e séries adicionados?\n",
    "2.   Qual o mês com menos filmes e séries adicionados?\n",
    "3.   Qual o ano recorde de filmes e séries adicionados?\n",
    "\n"
   ]
  },
  {
   "cell_type": "code",
   "execution_count": 287,
   "metadata": {
    "id": "v5z7SouwRtyW"
   },
   "outputs": [
    {
     "data": {
      "text/plain": [
       "NA                        2624\n",
       "Rajiv Chilaka               19\n",
       "Raúl Campos, Jan Suter      18\n",
       "Marcus Raboy                16\n",
       "Suhas Kadav                 16\n",
       "Name: director, dtype: int64"
      ]
     },
     "execution_count": 287,
     "metadata": {},
     "output_type": "execute_result"
    }
   ],
   "source": [
    "netflix['director'].value_counts().head(5)"
   ]
  },
  {
   "cell_type": "markdown",
   "metadata": {
    "id": "raYsDWMhZ_xW"
   },
   "source": [
    "**s -** listar os filmes e séries que estejam presente em alguma categoria de drama."
   ]
  },
  {
   "cell_type": "code",
   "execution_count": 11,
   "metadata": {
    "id": "eIg9YmIASaOo"
   },
   "outputs": [
    {
     "data": {
      "text/html": [
       "<div>\n",
       "<style scoped>\n",
       "    .dataframe tbody tr th:only-of-type {\n",
       "        vertical-align: middle;\n",
       "    }\n",
       "\n",
       "    .dataframe tbody tr th {\n",
       "        vertical-align: top;\n",
       "    }\n",
       "\n",
       "    .dataframe thead th {\n",
       "        text-align: right;\n",
       "    }\n",
       "</style>\n",
       "<table border=\"1\" class=\"dataframe\">\n",
       "  <thead>\n",
       "    <tr style=\"text-align: right;\">\n",
       "      <th></th>\n",
       "      <th>show_id</th>\n",
       "      <th>type</th>\n",
       "      <th>title</th>\n",
       "      <th>director</th>\n",
       "      <th>cast</th>\n",
       "      <th>country</th>\n",
       "      <th>date_added</th>\n",
       "      <th>release_year</th>\n",
       "      <th>rating</th>\n",
       "      <th>duration</th>\n",
       "      <th>listed_in</th>\n",
       "      <th>description</th>\n",
       "    </tr>\n",
       "  </thead>\n",
       "  <tbody>\n",
       "    <tr>\n",
       "      <th>1</th>\n",
       "      <td>s2</td>\n",
       "      <td>TV Show</td>\n",
       "      <td>Blood &amp; Water</td>\n",
       "      <td>NaN</td>\n",
       "      <td>Ama Qamata, Khosi Ngema, Gail Mabalane, Thaban...</td>\n",
       "      <td>South Africa</td>\n",
       "      <td>September 24, 2021</td>\n",
       "      <td>2021</td>\n",
       "      <td>TV-MA</td>\n",
       "      <td>2 Seasons</td>\n",
       "      <td>International TV Shows, TV Dramas, TV Mysteries</td>\n",
       "      <td>After crossing paths at a party, a Cape Town t...</td>\n",
       "    </tr>\n",
       "    <tr>\n",
       "      <th>5</th>\n",
       "      <td>s6</td>\n",
       "      <td>TV Show</td>\n",
       "      <td>Midnight Mass</td>\n",
       "      <td>Mike Flanagan</td>\n",
       "      <td>Kate Siegel, Zach Gilford, Hamish Linklater, H...</td>\n",
       "      <td>NaN</td>\n",
       "      <td>September 24, 2021</td>\n",
       "      <td>2021</td>\n",
       "      <td>TV-MA</td>\n",
       "      <td>1 Season</td>\n",
       "      <td>TV Dramas, TV Horror, TV Mysteries</td>\n",
       "      <td>The arrival of a charismatic young priest brin...</td>\n",
       "    </tr>\n",
       "    <tr>\n",
       "      <th>7</th>\n",
       "      <td>s8</td>\n",
       "      <td>Movie</td>\n",
       "      <td>Sankofa</td>\n",
       "      <td>Haile Gerima</td>\n",
       "      <td>Kofi Ghanaba, Oyafunmike Ogunlano, Alexandra D...</td>\n",
       "      <td>United States, Ghana, Burkina Faso, United Kin...</td>\n",
       "      <td>September 24, 2021</td>\n",
       "      <td>1993</td>\n",
       "      <td>TV-MA</td>\n",
       "      <td>125 min</td>\n",
       "      <td>Dramas, Independent Movies, International Movies</td>\n",
       "      <td>On a photo shoot in Ghana, an American model s...</td>\n",
       "    </tr>\n",
       "    <tr>\n",
       "      <th>9</th>\n",
       "      <td>s10</td>\n",
       "      <td>Movie</td>\n",
       "      <td>The Starling</td>\n",
       "      <td>Theodore Melfi</td>\n",
       "      <td>Melissa McCarthy, Chris O'Dowd, Kevin Kline, T...</td>\n",
       "      <td>United States</td>\n",
       "      <td>September 24, 2021</td>\n",
       "      <td>2021</td>\n",
       "      <td>PG-13</td>\n",
       "      <td>104 min</td>\n",
       "      <td>Comedies, Dramas</td>\n",
       "      <td>A woman adjusting to life after a loss contend...</td>\n",
       "    </tr>\n",
       "    <tr>\n",
       "      <th>12</th>\n",
       "      <td>s13</td>\n",
       "      <td>Movie</td>\n",
       "      <td>Je Suis Karl</td>\n",
       "      <td>Christian Schwochow</td>\n",
       "      <td>Luna Wedler, Jannis Niewöhner, Milan Peschel, ...</td>\n",
       "      <td>Germany, Czech Republic</td>\n",
       "      <td>September 23, 2021</td>\n",
       "      <td>2021</td>\n",
       "      <td>TV-MA</td>\n",
       "      <td>127 min</td>\n",
       "      <td>Dramas, International Movies</td>\n",
       "      <td>After most of her family is murdered in a terr...</td>\n",
       "    </tr>\n",
       "    <tr>\n",
       "      <th>...</th>\n",
       "      <td>...</td>\n",
       "      <td>...</td>\n",
       "      <td>...</td>\n",
       "      <td>...</td>\n",
       "      <td>...</td>\n",
       "      <td>...</td>\n",
       "      <td>...</td>\n",
       "      <td>...</td>\n",
       "      <td>...</td>\n",
       "      <td>...</td>\n",
       "      <td>...</td>\n",
       "      <td>...</td>\n",
       "    </tr>\n",
       "    <tr>\n",
       "      <th>8799</th>\n",
       "      <td>s8800</td>\n",
       "      <td>Movie</td>\n",
       "      <td>Zenda</td>\n",
       "      <td>Avadhoot Gupte</td>\n",
       "      <td>Santosh Juvekar, Siddharth Chandekar, Sachit P...</td>\n",
       "      <td>India</td>\n",
       "      <td>February 15, 2018</td>\n",
       "      <td>2009</td>\n",
       "      <td>TV-14</td>\n",
       "      <td>120 min</td>\n",
       "      <td>Dramas, International Movies</td>\n",
       "      <td>A change in the leadership of a political part...</td>\n",
       "    </tr>\n",
       "    <tr>\n",
       "      <th>8800</th>\n",
       "      <td>s8801</td>\n",
       "      <td>TV Show</td>\n",
       "      <td>Zindagi Gulzar Hai</td>\n",
       "      <td>NaN</td>\n",
       "      <td>Sanam Saeed, Fawad Khan, Ayesha Omer, Mehreen ...</td>\n",
       "      <td>Pakistan</td>\n",
       "      <td>December 15, 2016</td>\n",
       "      <td>2012</td>\n",
       "      <td>TV-PG</td>\n",
       "      <td>1 Season</td>\n",
       "      <td>International TV Shows, Romantic TV Shows, TV ...</td>\n",
       "      <td>Strong-willed, middle-class Kashaf and carefre...</td>\n",
       "    </tr>\n",
       "    <tr>\n",
       "      <th>8801</th>\n",
       "      <td>s8802</td>\n",
       "      <td>Movie</td>\n",
       "      <td>Zinzana</td>\n",
       "      <td>Majid Al Ansari</td>\n",
       "      <td>Ali Suliman, Saleh Bakri, Yasa, Ali Al-Jabri, ...</td>\n",
       "      <td>United Arab Emirates, Jordan</td>\n",
       "      <td>March 9, 2016</td>\n",
       "      <td>2015</td>\n",
       "      <td>TV-MA</td>\n",
       "      <td>96 min</td>\n",
       "      <td>Dramas, International Movies, Thrillers</td>\n",
       "      <td>Recovering alcoholic Talal wakes up inside a s...</td>\n",
       "    </tr>\n",
       "    <tr>\n",
       "      <th>8802</th>\n",
       "      <td>s8803</td>\n",
       "      <td>Movie</td>\n",
       "      <td>Zodiac</td>\n",
       "      <td>David Fincher</td>\n",
       "      <td>Mark Ruffalo, Jake Gyllenhaal, Robert Downey J...</td>\n",
       "      <td>United States</td>\n",
       "      <td>November 20, 2019</td>\n",
       "      <td>2007</td>\n",
       "      <td>R</td>\n",
       "      <td>158 min</td>\n",
       "      <td>Cult Movies, Dramas, Thrillers</td>\n",
       "      <td>A political cartoonist, a crime reporter and a...</td>\n",
       "    </tr>\n",
       "    <tr>\n",
       "      <th>8806</th>\n",
       "      <td>s8807</td>\n",
       "      <td>Movie</td>\n",
       "      <td>Zubaan</td>\n",
       "      <td>Mozez Singh</td>\n",
       "      <td>Vicky Kaushal, Sarah-Jane Dias, Raaghav Chanan...</td>\n",
       "      <td>India</td>\n",
       "      <td>March 2, 2019</td>\n",
       "      <td>2015</td>\n",
       "      <td>TV-14</td>\n",
       "      <td>111 min</td>\n",
       "      <td>Dramas, International Movies, Music &amp; Musicals</td>\n",
       "      <td>A scrappy but poor boy worms his way into a ty...</td>\n",
       "    </tr>\n",
       "  </tbody>\n",
       "</table>\n",
       "<p>3190 rows × 12 columns</p>\n",
       "</div>"
      ],
      "text/plain": [
       "     show_id     type               title             director  \\\n",
       "1         s2  TV Show       Blood & Water                  NaN   \n",
       "5         s6  TV Show       Midnight Mass        Mike Flanagan   \n",
       "7         s8    Movie             Sankofa         Haile Gerima   \n",
       "9        s10    Movie        The Starling       Theodore Melfi   \n",
       "12       s13    Movie        Je Suis Karl  Christian Schwochow   \n",
       "...      ...      ...                 ...                  ...   \n",
       "8799   s8800    Movie               Zenda       Avadhoot Gupte   \n",
       "8800   s8801  TV Show  Zindagi Gulzar Hai                  NaN   \n",
       "8801   s8802    Movie             Zinzana      Majid Al Ansari   \n",
       "8802   s8803    Movie              Zodiac        David Fincher   \n",
       "8806   s8807    Movie              Zubaan          Mozez Singh   \n",
       "\n",
       "                                                   cast  \\\n",
       "1     Ama Qamata, Khosi Ngema, Gail Mabalane, Thaban...   \n",
       "5     Kate Siegel, Zach Gilford, Hamish Linklater, H...   \n",
       "7     Kofi Ghanaba, Oyafunmike Ogunlano, Alexandra D...   \n",
       "9     Melissa McCarthy, Chris O'Dowd, Kevin Kline, T...   \n",
       "12    Luna Wedler, Jannis Niewöhner, Milan Peschel, ...   \n",
       "...                                                 ...   \n",
       "8799  Santosh Juvekar, Siddharth Chandekar, Sachit P...   \n",
       "8800  Sanam Saeed, Fawad Khan, Ayesha Omer, Mehreen ...   \n",
       "8801  Ali Suliman, Saleh Bakri, Yasa, Ali Al-Jabri, ...   \n",
       "8802  Mark Ruffalo, Jake Gyllenhaal, Robert Downey J...   \n",
       "8806  Vicky Kaushal, Sarah-Jane Dias, Raaghav Chanan...   \n",
       "\n",
       "                                                country          date_added  \\\n",
       "1                                          South Africa  September 24, 2021   \n",
       "5                                                   NaN  September 24, 2021   \n",
       "7     United States, Ghana, Burkina Faso, United Kin...  September 24, 2021   \n",
       "9                                         United States  September 24, 2021   \n",
       "12                              Germany, Czech Republic  September 23, 2021   \n",
       "...                                                 ...                 ...   \n",
       "8799                                              India   February 15, 2018   \n",
       "8800                                           Pakistan   December 15, 2016   \n",
       "8801                       United Arab Emirates, Jordan       March 9, 2016   \n",
       "8802                                      United States   November 20, 2019   \n",
       "8806                                              India       March 2, 2019   \n",
       "\n",
       "      release_year rating   duration  \\\n",
       "1             2021  TV-MA  2 Seasons   \n",
       "5             2021  TV-MA   1 Season   \n",
       "7             1993  TV-MA    125 min   \n",
       "9             2021  PG-13    104 min   \n",
       "12            2021  TV-MA    127 min   \n",
       "...            ...    ...        ...   \n",
       "8799          2009  TV-14    120 min   \n",
       "8800          2012  TV-PG   1 Season   \n",
       "8801          2015  TV-MA     96 min   \n",
       "8802          2007      R    158 min   \n",
       "8806          2015  TV-14    111 min   \n",
       "\n",
       "                                              listed_in  \\\n",
       "1       International TV Shows, TV Dramas, TV Mysteries   \n",
       "5                    TV Dramas, TV Horror, TV Mysteries   \n",
       "7      Dramas, Independent Movies, International Movies   \n",
       "9                                      Comedies, Dramas   \n",
       "12                         Dramas, International Movies   \n",
       "...                                                 ...   \n",
       "8799                       Dramas, International Movies   \n",
       "8800  International TV Shows, Romantic TV Shows, TV ...   \n",
       "8801            Dramas, International Movies, Thrillers   \n",
       "8802                     Cult Movies, Dramas, Thrillers   \n",
       "8806     Dramas, International Movies, Music & Musicals   \n",
       "\n",
       "                                            description  \n",
       "1     After crossing paths at a party, a Cape Town t...  \n",
       "5     The arrival of a charismatic young priest brin...  \n",
       "7     On a photo shoot in Ghana, an American model s...  \n",
       "9     A woman adjusting to life after a loss contend...  \n",
       "12    After most of her family is murdered in a terr...  \n",
       "...                                                 ...  \n",
       "8799  A change in the leadership of a political part...  \n",
       "8800  Strong-willed, middle-class Kashaf and carefre...  \n",
       "8801  Recovering alcoholic Talal wakes up inside a s...  \n",
       "8802  A political cartoonist, a crime reporter and a...  \n",
       "8806  A scrappy but poor boy worms his way into a ty...  \n",
       "\n",
       "[3190 rows x 12 columns]"
      ]
     },
     "execution_count": 11,
     "metadata": {},
     "output_type": "execute_result"
    }
   ],
   "source": [
    "netflix[netflix['listed_in'].str.contains(\"Drama\")==True]"
   ]
  },
  {
   "cell_type": "code",
   "execution_count": null,
   "metadata": {
    "id": "eDHDyUASTQ9a"
   },
   "outputs": [],
   "source": []
  },
  {
   "cell_type": "markdown",
   "metadata": {
    "id": "qjbXixDLaSVh"
   },
   "source": [
    "**t -** verificar a quantidade e percentual entre os tipos (filmes e séries) na base de dados."
   ]
  },
  {
   "cell_type": "code",
   "execution_count": 13,
   "metadata": {
    "id": "ubHeiKqTTkEA"
   },
   "outputs": [
    {
     "data": {
      "text/plain": [
       "Movie      6131\n",
       "TV Show    2676\n",
       "Name: type, dtype: int64"
      ]
     },
     "execution_count": 13,
     "metadata": {},
     "output_type": "execute_result"
    }
   ],
   "source": [
    "netflix.type.value_counts()"
   ]
  },
  {
   "cell_type": "code",
   "execution_count": 16,
   "metadata": {},
   "outputs": [
    {
     "data": {
      "text/plain": [
       "Movie      69.62%\n",
       "TV Show    30.38%\n",
       "Name: type, dtype: object"
      ]
     },
     "execution_count": 16,
     "metadata": {},
     "output_type": "execute_result"
    }
   ],
   "source": [
    "netflix.type.value_counts(normalize = True).mul(100).round(2).astype(str) + '%'"
   ]
  },
  {
   "cell_type": "code",
   "execution_count": null,
   "metadata": {},
   "outputs": [],
   "source": []
  }
 ],
 "metadata": {
  "colab": {
   "collapsed_sections": [
    "rNWR-NjhEXh9",
    "K58pB8XULL2f",
    "tUZ4d4vpGMKJ",
    "kBHV-o4HGvRp",
    "haYz6TsaLS0M",
    "dX3dF6vqE6Md",
    "2tBrB4SeLUlD"
   ],
   "provenance": []
  },
  "kernelspec": {
   "display_name": "Python 3",
   "language": "python",
   "name": "python3"
  },
  "language_info": {
   "codemirror_mode": {
    "name": "ipython",
    "version": 3
   },
   "file_extension": ".py",
   "mimetype": "text/x-python",
   "name": "python",
   "nbconvert_exporter": "python",
   "pygments_lexer": "ipython3",
   "version": "3.8.8"
  },
  "varInspector": {
   "cols": {
    "lenName": 16,
    "lenType": 16,
    "lenVar": 40
   },
   "kernels_config": {
    "python": {
     "delete_cmd_postfix": "",
     "delete_cmd_prefix": "del ",
     "library": "var_list.py",
     "varRefreshCmd": "print(var_dic_list())"
    },
    "r": {
     "delete_cmd_postfix": ") ",
     "delete_cmd_prefix": "rm(",
     "library": "var_list.r",
     "varRefreshCmd": "cat(var_dic_list()) "
    }
   },
   "types_to_exclude": [
    "module",
    "function",
    "builtin_function_or_method",
    "instance",
    "_Feature"
   ],
   "window_display": false
  }
 },
 "nbformat": 4,
 "nbformat_minor": 1
}
